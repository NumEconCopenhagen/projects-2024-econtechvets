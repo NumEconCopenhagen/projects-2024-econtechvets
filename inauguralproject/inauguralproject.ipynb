{
 "cells": [
  {
   "cell_type": "markdown",
   "metadata": {},
   "source": [
    "# Inaugural Project"
   ]
  },
  {
   "cell_type": "markdown",
   "metadata": {},
   "source": [
    "**Table of contents**<a id='toc0_'></a>    \n",
    "- 1. [Imports](#toc1_)    \n",
    "- 2. [Model class](#toc2_)    \n",
    "- 3. [Exercises](#toc3_)\n",
    "\t- 3.1 [Question 1 - Edgeworth Box](#toc3_1_) \n",
    "\t- 3.2 [Question 2 - Market Clearing Error](#toc3_2_)\n",
    "\t- 3.3 [Question 3 - Market clearing price](#toc3_3_)\n",
    "\t- 3.4a [Question 4a - Allocation when p1 is in P1](#toc3_4_)\n",
    "\t- 3.4b [Question 4b - Allocation when p1 > 0](#toc3_5_)\n",
    "\t- 3.5a [Question 5a - allocation if choice set is in C](#toc3_6_)\n",
    "\t- 3.5b [Question 5b - Question 5b - allocation if no further restrictions](#toc3_7_)\n",
    "\t- 3.6a [Question 6a - Social planner](#toc3_8_)\n",
    "\t- 3.6b [Question 6b - Illustration of allocations](#toc3_9_)\n",
    "\t- 3.7 [Question 7 - Random set of 50 elements](#toc3_10_)\n",
    "\t- 3.8 [Question 8 - Edgeworth box for the 50 elements](#toc3_11_)\n",
    "\n",
    "<!-- vscode-jupyter-toc-config\n",
    "\tnumbering=true\n",
    "\tanchor=true\n",
    "\tflat=false\n",
    "\tminLevel=2\n",
    "\tmaxLevel=6\n",
    "\t/vscode-jupyter-toc-config -->\n",
    "<!-- THIS CELL WILL BE REPLACED ON TOC UPDATE. DO NOT WRITE YOUR TEXT IN THIS CELL -->"
   ]
  },
  {
   "cell_type": "markdown",
   "metadata": {},
   "source": [
    "## 1. <a id='toc2_'></a>[Imports](#toc0_)"
   ]
  },
  {
   "cell_type": "code",
   "execution_count": null,
   "metadata": {},
   "outputs": [],
   "source": [
    "import numpy as np\n",
    "import matplotlib.pyplot as plt\n",
    "from scipy import optimize\n",
    "from scipy.optimize import minimize_scalar\n",
    "plt.rcParams.update({\"axes.grid\":True,\"grid.color\":\"black\",\"grid.alpha\":\"0.25\",\"grid.linestyle\":\"--\"})\n",
    "plt.rcParams.update({'font.size': 14})\n",
    "\n",
    "# autoreload modules when code is run. Otherwise, python will not see recent changes. \n",
    "%load_ext autoreload\n",
    "%autoreload 2\n",
    "\n",
    "# Import your own code\n",
    "import inauguralproject"
   ]
  },
  {
   "cell_type": "markdown",
   "metadata": {},
   "source": [
    "## 2. <a id='toc2_'></a>[Model class](#toc0_)"
   ]
  },
  {
   "cell_type": "code",
   "execution_count": null,
   "metadata": {},
   "outputs": [],
   "source": [
    "from inauguralproject import InauguralProjectClass"
   ]
  },
  {
   "cell_type": "markdown",
   "metadata": {},
   "source": [
    "## 3. <a id='toc3_'></a>[Exercises](#toc0_)"
   ]
  },
  {
   "cell_type": "code",
   "execution_count": null,
   "metadata": {},
   "outputs": [],
   "source": [
    "model = InauguralProjectClass()"
   ]
  },
  {
   "cell_type": "markdown",
   "metadata": {},
   "source": [
    "### 3.1. <a id='toc3_1_'></a>[Question 1 - Edgeworth Box](#toc0_)"
   ]
  },
  {
   "cell_type": "markdown",
   "metadata": {},
   "source": [
    "We want to illustrate the given set in an edgeworth box. To do that we have created code in our py-file. The relevant functions are *find_indifference_curve* and *plot_edgeworth_box*. We can then directly call the functions and illustrate what we want."
   ]
  },
  {
   "cell_type": "code",
   "execution_count": null,
   "metadata": {},
   "outputs": [],
   "source": [
    "model.plot_edgeworth_box()"
   ]
  },
  {
   "cell_type": "markdown",
   "metadata": {},
   "source": [
    "The grey shaded area in the above graph illustrates the pareto improvements relative to the given endowment. In this area we are able to make both consumers at least as good of as they are at the given endowment."
   ]
  },
  {
   "cell_type": "markdown",
   "metadata": {},
   "source": [
    "### 3.2. <a id='toc3_2_'></a>[Question 2 - Market clearing error](#toc0_)"
   ]
  },
  {
   "cell_type": "markdown",
   "metadata": {},
   "source": [
    "Calculating the error in the market clearing condition for p1 in the set P1. \n",
    "First we define the range P1 and set N=75 after which we call a function, which we have defined in the py-file, that calculates the market errors. It does so by iterating over each p1 value in P1. We do that now:"
   ]
  },
  {
   "cell_type": "code",
   "execution_count": null,
   "metadata": {},
   "outputs": [],
   "source": [
    "# Calculate P1\n",
    "P1 = np.linspace(0.5, 2.5, num=75)\n",
    "\n",
    "# Calculate errors using the new method\n",
    "error_1, error_2 = model.calculate_market_clearing_errors(P1)\n",
    "\n",
    "# Plotting errors\n",
    "plt.figure(figsize=(10, 5))\n",
    "plt.plot(P1, error_1, label='Error in market clearing for x1')\n",
    "plt.plot(P1, error_2, label='Error in market clearing for x2')\n",
    "plt.xlabel('Price (p1)')\n",
    "plt.ylabel('Error in the market clearing')\n",
    "plt.title('Errors in Market Clearing')\n",
    "plt.grid(True)\n",
    "plt.legend()\n",
    "# Show plot\n",
    "plt.show()"
   ]
  },
  {
   "cell_type": "markdown",
   "metadata": {},
   "source": [
    "The figure shows, that the market clearing price is somewhere around p1=0.9, as it is where both errors are closest to zero. In Q3 we calculate the market clearing price."
   ]
  },
  {
   "cell_type": "markdown",
   "metadata": {},
   "source": [
    "### 3.3. <a id='toc3_3_'></a>[Question 3 - Market clearing price](#toc0_)"
   ]
  },
  {
   "cell_type": "markdown",
   "metadata": {},
   "source": [
    "We have iterated over all possible values for p1 in P1. We now find the smallest error in the list. The corresponding p1-value to the smallest error will also be the market clearing price. We thus have:"
   ]
  },
  {
   "cell_type": "code",
   "execution_count": null,
   "metadata": {},
   "outputs": [],
   "source": [
    "# Defining the set P1\n",
    "P1 = np.linspace(0.5, 2.5, num=75)"
   ]
  },
  {
   "cell_type": "code",
   "execution_count": null,
   "metadata": {},
   "outputs": [],
   "source": [
    "# Find the exact market clearing price using P1\n",
    "market_clearing_price, min_error = model.market_clearing_price(P1)\n",
    "\n",
    "print(f\"Market clearing price: {market_clearing_price:.3f}\")\n",
    "print(f\"Minimum error: {min_error:.3f}\")"
   ]
  },
  {
   "cell_type": "markdown",
   "metadata": {},
   "source": [
    "With the epsilon values (minimum error) being 0, we know that the price is right."
   ]
  },
  {
   "cell_type": "markdown",
   "metadata": {},
   "source": [
    "### 3.4a. <a id='toc3_4_'></a>[Question 4a - Allocation when p1 is in P1](#toc0_)"
   ]
  },
  {
   "cell_type": "markdown",
   "metadata": {},
   "source": [
    "We have calculated new utility functions in the py-file, as well as the allocation of goods. Therefore we can just call the funcitons here, and printing the values."
   ]
  },
  {
   "cell_type": "code",
   "execution_count": null,
   "metadata": {},
   "outputs": [],
   "source": [
    "# Find the allocation maximizing consumer A's utility\n",
    "max_utility_price, allocation_A, allocation_B, max_utility = model.max_utility_A_allocation(P1)\n",
    "\n",
    "print(f\"Price maximizing consumer A's utility: {max_utility_price:.3f}\")\n",
    "print(f\"Allocation consumer A: {allocation_A}\")\n",
    "print(f\"Allocation consumer B: {allocation_B}\")\n",
    "print(f\"Maximum utility for consumer A: {max_utility:.3f}\")"
   ]
  },
  {
   "cell_type": "markdown",
   "metadata": {},
   "source": [
    "We observe that the allocation of each good sums to 1 and the calculation must be right."
   ]
  },
  {
   "cell_type": "markdown",
   "metadata": {},
   "source": [
    "### 3.4b. <a id='toc3_5_'></a>[Question 4b - Allocation when p1 > 0](#toc0_)"
   ]
  },
  {
   "cell_type": "markdown",
   "metadata": {},
   "source": [
    "We replicate the process above to find the equilibrium when p1 can take any positive values. Only thing different is that we redefine the set P1 that p1 must fit within. After this the process is pretty much repeated."
   ]
  },
  {
   "cell_type": "code",
   "execution_count": null,
   "metadata": {},
   "outputs": [],
   "source": [
    "# Define the set P1_4b where p1>0\n",
    "N = 75\n",
    "P1_4b = [1*10**-8 + 2 * i / N for i in range(N + 1)] # 1*10**-8 is added to avoid division by zero."
   ]
  },
  {
   "cell_type": "code",
   "execution_count": null,
   "metadata": {},
   "outputs": [],
   "source": [
    "max_utility_price, allocation_A, allocation_B, max_utility = model.max_utility_A_allocation(P1_4b)\n",
    "\n",
    "print(f\"Price maximizing consumer A's utility: {max_utility_price:.3f}\")\n",
    "print(f\"Allocation consumer A: {allocation_A}\")\n",
    "print(f\"Allocation consumer B: {allocation_B}\")\n",
    "print(f\"Maximum utility for consumer A: {max_utility:.3f}\")"
   ]
  },
  {
   "cell_type": "markdown",
   "metadata": {},
   "source": [
    "We observe the result to be identical."
   ]
  },
  {
   "cell_type": "markdown",
   "metadata": {},
   "source": [
    "### 3.5a. <a id='toc3_6_'></a>[Question 5a - allocation if choice set is in C](#toc0_)"
   ]
  },
  {
   "cell_type": "markdown",
   "metadata": {},
   "source": [
    "We use the function in the py-file: allocation_within_choise_set to calculate the allocations if the choice set is in C and when A is the market maker. We then print the results."
   ]
  },
  {
   "cell_type": "code",
   "execution_count": null,
   "metadata": {},
   "outputs": [],
   "source": [
    "optimal_allocation_A_5a, optimal_allocation_B_5a, max_utility_A_5a = model.allocation_within_choice_set()\n",
    "print(\"Optimal Allocation for A:\", optimal_allocation_A_5a)\n",
    "print(\"Optimal Allocation for B:\", optimal_allocation_B_5a)\n",
    "print(\"Maximum Utility for A:\", max_utility_A_5a)"
   ]
  },
  {
   "cell_type": "markdown",
   "metadata": {},
   "source": [
    "### 3.5b. <a id='toc3_7_'></b>[Question 5b - allocation if no further restrictions](#toc0_)"
   ]
  },
  {
   "cell_type": "markdown",
   "metadata": {},
   "source": [
    "We repeat the procedure but only change the constraint conditions. The calculations can be found in the py-file function: allocation_without_restrictions. We then print the results."
   ]
  },
  {
   "cell_type": "code",
   "execution_count": null,
   "metadata": {},
   "outputs": [],
   "source": [
    "optimal_allocation_A, optimal_allocation_B, max_utility_A = model.allocation_without_restrictions()\n",
    "print(\"Optimal Allocation for A:\", optimal_allocation_A)\n",
    "print(\"Optimal Allocation for B:\", optimal_allocation_B)\n",
    "print(\"Maximum Utility for A:\", max_utility_A)"
   ]
  },
  {
   "cell_type": "markdown",
   "metadata": {},
   "source": [
    "We find the allocation to be somewhat close to the previous allocation, but not identical. This is due to the fact, that the restrictions are not as tough as before, hence B receives more of good 2."
   ]
  },
  {
   "cell_type": "markdown",
   "metadata": {},
   "source": [
    "### 3.6a. <a id='toc3_8_'></a>[Question 6a - Social planner](#toc0_)"
   ]
  },
  {
   "cell_type": "markdown",
   "metadata": {},
   "source": [
    "We use the function in the py-file: utilitarian_allocation to calculate the allocation of goods when the social planner is the market maker. We then print the results."
   ]
  },
  {
   "cell_type": "code",
   "execution_count": null,
   "metadata": {},
   "outputs": [],
   "source": [
    "optimal_allocation_A, optimal_allocation_B, max_utility_aggregate = model.utilitarian_allocation()\n",
    "print(\"Optimal Allocation for A:\", optimal_allocation_A)\n",
    "print(\"Optimal Allocation for B:\", optimal_allocation_B)\n",
    "print(\"Maximum Aggregate Utility:\", max_utility_aggregate)"
   ]
  },
  {
   "cell_type": "markdown",
   "metadata": {},
   "source": [
    "The allocation now corresponds to the alpha and beta values, which makes sence. The social planner will always try to maximize the aggregate utility."
   ]
  },
  {
   "cell_type": "markdown",
   "metadata": {},
   "source": [
    "### 3.6b. <a id='toc3_9_'></a>[Question 6b - Illustration of allocations](#toc0_)"
   ]
  },
  {
   "cell_type": "markdown",
   "metadata": {},
   "source": [
    "### GAMMEL KODE"
   ]
  },
  {
   "cell_type": "code",
   "execution_count": null,
   "metadata": {},
   "outputs": [],
   "source": [
    "# Plot allocations\n",
    "plt.figure(figsize=(8, 6))\n",
    "\n",
    "# Plot allocation obtained from social planner utility maximization\n",
    "plt.plot(x1A_4a, x1B_4a, 'gs', label='4a')\n",
    "plt.plot(x1A_4b, x1B_4b, 'ro', label='4b')\n",
    "plt.plot(optimal_allocation[0], optimal_allocation[1], 'b^', label='5a and 5b')\n",
    "plt.plot(optimal_x1A, optimal_x2A, 'y*', label='Social Planner Utility Maximization, 6a and 6b')\n",
    "\n",
    "# Add labels and legend\n",
    "plt.xlabel('Quantity of Good 1')\n",
    "plt.ylabel('Quantity of Good 2')\n",
    "plt.title('Allocations')\n",
    "plt.legend()\n",
    "plt.xlim([0, 1])\n",
    "plt.ylim([0, 1])\n",
    "\n",
    "# Show plot\n",
    "plt.grid(True)\n",
    "plt.show()"
   ]
  },
  {
   "cell_type": "markdown",
   "metadata": {},
   "source": [
    "We observe that all the points are laying within the oval explained in assignment 1, which means that all the points satisfy are either pareto improvements relative to the initial endowment or status quo from a Pareto efficient perspective.  \n",
    "We furthermore observe the social optimal planner solution to be the most equal seen from a distributive perspective. It is the exact opposite with the solution from 5a and 5b. The solutions from 4a and 4b on the other hand are very close to the social planner solution because it is not only consumer A that decides the allocation, opposite to in assignment 5."
   ]
  },
  {
   "cell_type": "markdown",
   "metadata": {},
   "source": [
    "### 3.7. <a id='toc3_10_'></a>[Question 7 - Random set of 50 elements](#toc0_)"
   ]
  },
  {
   "cell_type": "markdown",
   "metadata": {},
   "source": [
    "We consider the set and draw 50 random points from the seed number 123. We display the numbers in a plot."
   ]
  },
  {
   "cell_type": "code",
   "execution_count": null,
   "metadata": {},
   "outputs": [],
   "source": [
    "# Set the seed for reproducibility\n",
    "np.random.seed(123)\n",
    "\n",
    "# Number of elements in the set\n",
    "num_elements = 50\n",
    "\n",
    "# Generate random elements for set W\n",
    "W = np.random.rand(num_elements, 2)\n",
    "\n",
    "# Plot set W\n",
    "plt.figure(figsize=(8, 6))\n",
    "plt.plot(W[:, 0], W[:, 1], 'bo', label='Elements of set W')\n",
    "plt.xlabel('w1A')\n",
    "plt.ylabel('w2A')\n",
    "plt.title('Set W with 50 Elements')\n",
    "plt.grid(True)\n",
    "plt.legend()\n",
    "plt.show()"
   ]
  },
  {
   "cell_type": "markdown",
   "metadata": {},
   "source": [
    "### 3.8. <a id='toc3_11_'></a>[Question 8 - PLotting allocation in an Edgeworth Box](#toc0_)"
   ]
  },
  {
   "cell_type": "markdown",
   "metadata": {},
   "source": [
    "To find the market equilibrium allocation for each $\\omega^A\\in W$ we create to empty lists for the two coordinates and iterate over the set of $\\omega^A$. While iterating over the set we reuse the code for market equilibria from earlier."
   ]
  },
  {
   "cell_type": "code",
   "execution_count": null,
   "metadata": {},
   "outputs": [],
   "source": [
    "# Create lists to store market equilibrium allocations\n",
    "x1A_list = []\n",
    "x2A_list = []\n",
    "\n",
    "# Iterate over different values of par.w1a and par.w2a\n",
    "for w1a, w2a in W:\n",
    "    # Set endowment levels for agent A\n",
    "    model.par.w1A = w1a\n",
    "    model.par.w2A = w2a\n",
    "\n",
    "    # Define the range of prices\n",
    "    N = 75\n",
    "    P1 = [1 * 10**-8 + 2 * i / N for i in range(N + 1)]  # 1*10**-8 is added to avoid division by zero\n",
    "\n",
    "    # Calculate market clearing errors\n",
    "    errors = model.calculate_market_clearing_errors(P1)\n",
    "\n",
    "    # Find market clearing price\n",
    "    market_clearing_price, min_error = model.find_market_clearing_price(P1)\n",
    "    x1A_market_eq = model.demand_A(market_clearing_price)\n",
    "    x1B_market_eq = model.demand_B(market_clearing_price)\n",
    "\n",
    "    # Append the market equilibrium allocation to lists\n",
    "    x1A_list.append(x1A_market_eq)\n",
    "    x2A_list.append(x1B_market_eq)\n",
    "\n",
    "# Plotting\n",
    "plt.figure(figsize=(8, 6))\n",
    "plt.scatter(x1A_list, x2A_list, label='Agent A', color='blue')\n",
    "plt.xlabel('Good 1')\n",
    "plt.ylabel('Good 2')\n",
    "plt.title('Edgeworth Box')\n",
    "plt.legend()\n",
    "plt.grid(True)\n",
    "plt.show()"
   ]
  },
  {
   "cell_type": "markdown",
   "metadata": {},
   "source": [
    "We note that all the market equilibrium allocation are located along the budget line, also depicted in the graph from question 1. "
   ]
  },
  {
   "cell_type": "markdown",
   "metadata": {},
   "source": [
    "### 4. <a id='toc3_11_'></a>[Sources](#toc0_)"
   ]
  },
  {
   "cell_type": "markdown",
   "metadata": {},
   "source": [
    "We have generally found help and inspiration from ChatGPT and general desktop research for most of the questions. Furthermore, the following source has been used for question 1 as also noted there:  \n",
    "  author = Maxim Litvak  \n",
    "  title = pyEdgeworthBox: A Python Library for Edgeworth Box Plots  \n",
    "  year = 2024 (Year of the version or first release)  \n",
    "  version = 0.3.3  \n",
    "  url = https://github.com/maxlit/pyEdgeworthBox  "
   ]
  }
 ],
 "metadata": {
  "kernelspec": {
   "display_name": "base",
   "language": "python",
   "name": "python3"
  },
  "language_info": {
   "codemirror_mode": {
    "name": "ipython",
    "version": 3
   },
   "file_extension": ".py",
   "mimetype": "text/x-python",
   "name": "python",
   "nbconvert_exporter": "python",
   "pygments_lexer": "ipython3",
   "version": "3.11.8"
  },
  "toc-autonumbering": true,
  "vscode": {
   "interpreter": {
    "hash": "47ef90cdf3004d3f859f1fb202523c65c07ba7c22eefd261b181f4744e2d0403"
   }
  }
 },
 "nbformat": 4,
 "nbformat_minor": 4
}
