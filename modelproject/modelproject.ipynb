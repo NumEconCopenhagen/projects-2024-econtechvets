{
 "cells": [
  {
   "cell_type": "markdown",
   "metadata": {},
   "source": [
    "# Modeldescription, IS-LM"
   ]
  },
  {
   "cell_type": "markdown",
   "metadata": {},
   "source": [
    "We have decided to consider an IS-LM model describing the interaction between the goods and money market. It illustrates how the economy reaches equilibrium in the short run when considering both real and monetary factors. It consists of 2 curves, the IS- and LM-curve.\n",
    "\n",
    "**IS curve (Investment-Savings):** defines the equilibrium on the goods market, given the interest rate and income level.\n",
    "$$\n",
    "Y = C(Y - T) + I(r) + G\n",
    "$$\n",
    "\n",
    "where *Y* is the income level, *T* is the tax level, *G* is government spending, *C* is private consumption, and *I(r)* is investment, which depends endogenously on the interest rate, *r*, in percent. We assume *I(r)* and *C* to follow these forms:\n",
    "\n",
    "$$\n",
    "\\begin{aligned}\n",
    "C &= a + b \\cdot (Y - T) \\\\\n",
    "I(r) &= c - d \\cdot r\n",
    "\\end{aligned}\n",
    "$$\n",
    "where *a*, *b*, *c* and *d* are exogenous parameters.\n",
    "\n",
    "**LM curve (Liquidity Preference-Money Supply):** defines the the money market equilibrium, given combinations of the interest rate and income level.\n",
    "$$\n",
    "\\frac{M}{P}=L(r,Y)\n",
    "$$\n",
    "where *M* equals nominal money supply, *P* is the price level and *L(r,Y)* is money demand as a function of income and interest rate:\n",
    "$$\n",
    "L(r,Y)=e\\cdot Y-f\\cdot r\n",
    "$$\n",
    "where *e* and *f* are exogenous parameters."
   ]
  },
  {
   "cell_type": "markdown",
   "metadata": {},
   "source": [
    "## Analytical solution"
   ]
  },
  {
   "cell_type": "markdown",
   "metadata": {},
   "source": [
    "First, we consider an analytical solution of the model. To solve for this analytical solution we do as follows:\n",
    "1. Given our equations we can rewrite our IS-LM equations into two new forms\n",
    "2. We use these two new equations to solve for the analytical solutions on equation form\n",
    "3. We can calculate the aggregate demand, *Y*, and interest rate, *r*, given a set of parameters defined as:\n",
    "    - T = 100   (taxes)\n",
    "    - G = 400   (goverment spendings)\n",
    "    - M = 1655  (money supply)\n",
    "    - P = 1     (price level)\n",
    "    - a = 200   (autonomous consumption)\n",
    "    - b = 0.7   (marginal propensity to consume)\n",
    "    - c = 300   (autonomous investment)\n",
    "    - d = 80    (interest rate sensitivity of investment)\n",
    "    - e = 0.6   (sensitivity of money demand to changes in income)\n",
    "    - f = 20    (sensitivity of money demand to changes in interest rates)"
   ]
  },
  {
   "cell_type": "code",
   "execution_count": 1,
   "metadata": {},
   "outputs": [
    {
     "data": {
      "text/html": [
       "<strong>The IS-LM equations can be rewritten into:</strong>"
      ],
      "text/plain": [
       "<IPython.core.display.HTML object>"
      ]
     },
     "metadata": {},
     "output_type": "display_data"
    },
    {
     "data": {
      "text/latex": [
       "$\\displaystyle Y = \\frac{G - T b + a + c - d r}{1 - b}\\quad \\text{(IS)}$"
      ],
      "text/plain": [
       "<IPython.core.display.Math object>"
      ]
     },
     "metadata": {},
     "output_type": "display_data"
    },
    {
     "data": {
      "text/latex": [
       "$\\displaystyle r = \\frac{- \\frac{M}{P} + Y e}{f}\\quad \\text{(LM)}$"
      ],
      "text/plain": [
       "<IPython.core.display.Math object>"
      ]
     },
     "metadata": {},
     "output_type": "display_data"
    },
    {
     "data": {
      "text/html": [
       "<strong>The solution to Y and r are:</strong>"
      ],
      "text/plain": [
       "<IPython.core.display.HTML object>"
      ]
     },
     "metadata": {},
     "output_type": "display_data"
    },
    {
     "data": {
      "text/latex": [
       "$\\displaystyle Y = \\frac{G P f + M d - P T b f + P a f + P c f}{P \\left(- b f + d e + f\\right)}$"
      ],
      "text/plain": [
       "<IPython.core.display.Math object>"
      ]
     },
     "metadata": {},
     "output_type": "display_data"
    },
    {
     "data": {
      "text/latex": [
       "$\\displaystyle r = \\frac{G P e + M b - M - P T b e + P a e + P c e}{P \\left(- b f + d e + f\\right)}$"
      ],
      "text/plain": [
       "<IPython.core.display.Math object>"
      ]
     },
     "metadata": {},
     "output_type": "display_data"
    },
    {
     "data": {
      "text/html": [
       "<strong>Equilibrium Solution (Analytical):</strong>"
      ],
      "text/plain": [
       "<IPython.core.display.HTML object>"
      ]
     },
     "metadata": {},
     "output_type": "display_data"
    },
    {
     "name": "stdout",
     "output_type": "stream",
     "text": [
      "Equilibrium Output (Y): 2085.19\n",
      "Equilibrium Interest Rate (r): 2.56\n"
     ]
    }
   ],
   "source": [
    "# Import the IS-LM model from modelproject.py and then initialize it\n",
    "from modelproject import IS_LM_model_analytical\n",
    "analytical_model = IS_LM_model_analytical()\n",
    "\n",
    "# Derive and solve for the IS-LM equations\n",
    "analytical_model.derive_IS_LM_equations()\n",
    "analytical_model.solve_IS_LM_analytically()\n",
    "\n",
    "# Print the IS-LM equations and equilibrium solution\n",
    "analytical_model.print_IS_LM_equations()\n",
    "analytical_model.print_solution()"
   ]
  },
  {
   "cell_type": "markdown",
   "metadata": {},
   "source": [
    "We have derived new forms of the IS-LM equations and found the solutions analytically. The aggregate demand is found to be 2759.26 and the interest rate 2.56%, which seems realistic."
   ]
  },
  {
   "cell_type": "markdown",
   "metadata": {},
   "source": [
    "## Numerical solution"
   ]
  },
  {
   "cell_type": "markdown",
   "metadata": {},
   "source": [
    "We now solve the model numerically. We do that in the following order:\n",
    "1. Define our sets of parameters as in the analytical solution\n",
    "2. We use the optimization algorithm *scipy minimze* to solve the model\n",
    "3. We solve the model for different starting values/initial guesses to test the robustness of our model\n",
    "\n",
    "The results are as follows:"
   ]
  },
  {
   "cell_type": "code",
   "execution_count": 2,
   "metadata": {},
   "outputs": [
    {
     "data": {
      "text/html": [
       "<strong>Equilibrium Solution (Numerical):</strong>"
      ],
      "text/plain": [
       "<IPython.core.display.HTML object>"
      ]
     },
     "metadata": {},
     "output_type": "display_data"
    },
    {
     "name": "stdout",
     "output_type": "stream",
     "text": [
      "For initial guesses: Y = 2000.0 and r = 0.0: the equilibrium output and interest rate are (Y, r) = (2085.19, 2.56)\n"
     ]
    },
    {
     "data": {
      "text/html": [
       "<strong>Equilibrium Solution (Numerical):</strong>"
      ],
      "text/plain": [
       "<IPython.core.display.HTML object>"
      ]
     },
     "metadata": {},
     "output_type": "display_data"
    },
    {
     "name": "stdout",
     "output_type": "stream",
     "text": [
      "For initial guesses: Y = 1000.0 and r = 0.1: the equilibrium output and interest rate are (Y, r) = (2085.19, 2.56)\n"
     ]
    },
    {
     "data": {
      "text/html": [
       "<strong>Equilibrium Solution (Numerical):</strong>"
      ],
      "text/plain": [
       "<IPython.core.display.HTML object>"
      ]
     },
     "metadata": {},
     "output_type": "display_data"
    },
    {
     "name": "stdout",
     "output_type": "stream",
     "text": [
      "For initial guesses: Y = 500.0 and r = 0.0: the equilibrium output and interest rate are (Y, r) = (2085.19, 2.56)\n"
     ]
    },
    {
     "data": {
      "text/html": [
       "<strong>Equilibrium Solution (Numerical):</strong>"
      ],
      "text/plain": [
       "<IPython.core.display.HTML object>"
      ]
     },
     "metadata": {},
     "output_type": "display_data"
    },
    {
     "name": "stdout",
     "output_type": "stream",
     "text": [
      "For initial guesses: Y = 0.0 and r = 0.2: the equilibrium output and interest rate are (Y, r) = (2085.19, 2.56)\n"
     ]
    },
    {
     "data": {
      "text/html": [
       "<strong>Equilibrium Solution (Numerical):</strong>"
      ],
      "text/plain": [
       "<IPython.core.display.HTML object>"
      ]
     },
     "metadata": {},
     "output_type": "display_data"
    },
    {
     "name": "stdout",
     "output_type": "stream",
     "text": [
      "For initial guesses: Y = -500.0 and r = 0.0: the equilibrium output and interest rate are (Y, r) = (2085.19, 2.56)\n"
     ]
    }
   ],
   "source": [
    "# Import the IS-LM model from modelproject.py and then initialize it\n",
    "from modelproject import IS_LM_numerical\n",
    "numerical_model = IS_LM_numerical(analytical_model)\n",
    "\n",
    "# Solve the IS-LM model numerically for different starting values\n",
    "numerical_model.solve_IS_LM_numerically(initial_guess=[2000, 0.01])\n",
    "numerical_model.print_solution()\n",
    "\n",
    "numerical_model.solve_IS_LM_numerically(initial_guess=[1000, 0.05])\n",
    "numerical_model.print_solution()\n",
    "\n",
    "numerical_model.solve_IS_LM_numerically(initial_guess=[500, 0.0])\n",
    "numerical_model.print_solution()\n",
    "\n",
    "numerical_model.solve_IS_LM_numerically(initial_guess=[0, 0.2])\n",
    "numerical_model.print_solution()\n",
    "\n",
    "numerical_model.solve_IS_LM_numerically(initial_guess=[-500, 0.01])\n",
    "numerical_model.print_solution()"
   ]
  },
  {
   "cell_type": "markdown",
   "metadata": {},
   "source": [
    "We notice the results for the numerical solution to be identical to the analytical solution and robust to changes in the starting values/initial guessses."
   ]
  },
  {
   "cell_type": "markdown",
   "metadata": {},
   "source": [
    "# Further analysis"
   ]
  },
  {
   "cell_type": "markdown",
   "metadata": {},
   "source": [
    "**RD ideas for further analysis:**\n",
    "1. Make a visualization of our 'base' model\n",
    "2. Analyze the effect of changing parameter values by calculating the changing eq. values and visualize the changes graphically. Ideas:\n",
    "    - Increased goverment spending, G (up)\n",
    "    - Increase in money amount, M(up)\n",
    "    - Increasing price levels, P (up)\n",
    "3. Extend the model to include proportional taxes instead of lump-sum taxes (see slideset 12, slide 30) or to be a small open economy instead of closed economy (slideset 13)\n",
    "    - Find solutions for same base model\n",
    "    - Graphically compare with solution of base model"
   ]
  },
  {
   "cell_type": "markdown",
   "metadata": {},
   "source": [
    "# Conclusion"
   ]
  },
  {
   "cell_type": "markdown",
   "metadata": {},
   "source": [
    "Add concise conclusion. "
   ]
  }
 ],
 "metadata": {
  "kernelspec": {
   "display_name": "base",
   "language": "python",
   "name": "python3"
  },
  "language_info": {
   "codemirror_mode": {
    "name": "ipython",
    "version": 3
   },
   "file_extension": ".py",
   "mimetype": "text/x-python",
   "name": "python",
   "nbconvert_exporter": "python",
   "pygments_lexer": "ipython3",
   "version": "3.11.8"
  },
  "toc-autonumbering": true,
  "vscode": {
   "interpreter": {
    "hash": "47ef90cdf3004d3f859f1fb202523c65c07ba7c22eefd261b181f4744e2d0403"
   }
  }
 },
 "nbformat": 4,
 "nbformat_minor": 4
}
