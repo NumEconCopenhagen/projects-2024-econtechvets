{
 "cells": [
  {
   "cell_type": "markdown",
   "metadata": {},
   "source": [
    "# Football in Denmark: Where are we playing?"
   ]
  },
  {
   "cell_type": "markdown",
   "metadata": {},
   "source": [
    "Imports and set magics:"
   ]
  },
  {
   "cell_type": "code",
   "execution_count": 1,
   "metadata": {},
   "outputs": [
    {
     "name": "stdout",
     "output_type": "stream",
     "text": [
      "Note: you may need to restart the kernel to use updated packages.\n"
     ]
    },
    {
     "name": "stderr",
     "output_type": "stream",
     "text": [
      "ERROR: Invalid requirement: '#Installing'\n"
     ]
    }
   ],
   "source": [
    "# %pip install git+https://github.com/alemartinello/dstapi #Installing the API (only need to do once)"
   ]
  },
  {
   "cell_type": "code",
   "execution_count": 2,
   "metadata": {},
   "outputs": [
    {
     "name": "stdout",
     "output_type": "stream",
     "text": [
      "Note: you may need to restart the kernel to use updated packages.\n"
     ]
    },
    {
     "name": "stderr",
     "output_type": "stream",
     "text": [
      "ERROR: Invalid requirement: '#'\n"
     ]
    }
   ],
   "source": [
    "# %pip install pandas-datareader # Installing the data reader (only need to do once)"
   ]
  },
  {
   "cell_type": "code",
   "execution_count": 3,
   "metadata": {},
   "outputs": [
    {
     "ename": "ModuleNotFoundError",
     "evalue": "No module named 'dstapi'",
     "output_type": "error",
     "traceback": [
      "\u001b[1;31m---------------------------------------------------------------------------\u001b[0m",
      "\u001b[1;31mModuleNotFoundError\u001b[0m                       Traceback (most recent call last)",
      "Cell \u001b[1;32mIn[3], line 8\u001b[0m\n\u001b[0;32m      6\u001b[0m \u001b[38;5;28;01mimport\u001b[39;00m \u001b[38;5;21;01mipywidgets\u001b[39;00m \u001b[38;5;28;01mas\u001b[39;00m \u001b[38;5;21;01mwidgets\u001b[39;00m\n\u001b[0;32m      7\u001b[0m \u001b[38;5;66;03m# from matplotlib_venn import venn2\u001b[39;00m\n\u001b[1;32m----> 8\u001b[0m \u001b[38;5;28;01mfrom\u001b[39;00m \u001b[38;5;21;01mdstapi\u001b[39;00m \u001b[38;5;28;01mimport\u001b[39;00m DstApi \u001b[38;5;66;03m# install with `pip install git+https://github.com/alemartinello/dstapi`\u001b[39;00m\n\u001b[0;32m     10\u001b[0m \u001b[38;5;66;03m# autoreload modules when code is run\u001b[39;00m\n\u001b[0;32m     11\u001b[0m get_ipython()\u001b[38;5;241m.\u001b[39mrun_line_magic(\u001b[38;5;124m'\u001b[39m\u001b[38;5;124mload_ext\u001b[39m\u001b[38;5;124m'\u001b[39m, \u001b[38;5;124m'\u001b[39m\u001b[38;5;124mautoreload\u001b[39m\u001b[38;5;124m'\u001b[39m)\n",
      "\u001b[1;31mModuleNotFoundError\u001b[0m: No module named 'dstapi'"
     ]
    }
   ],
   "source": [
    "import pandas as pd\n",
    "import numpy as np\n",
    "import matplotlib.pyplot as plt\n",
    "plt.rcParams.update({\"axes.grid\":True,\"grid.color\":\"black\",\"grid.alpha\":\"0.25\",\"grid.linestyle\":\"--\"})\n",
    "plt.rcParams.update({'font.size': 14})\n",
    "import ipywidgets as widgets\n",
    "# from matplotlib_venn import venn2\n",
    "from dstapi import DstApi # install with `pip install git+https://github.com/alemartinello/dstapi`\n",
    "\n",
    "# autoreload modules when code is run\n",
    "%load_ext autoreload\n",
    "%autoreload 2\n",
    "\n",
    "# user written modules\n",
    "import dataproject\n"
   ]
  },
  {
   "cell_type": "markdown",
   "metadata": {},
   "source": [
    "# Read and clean data"
   ]
  },
  {
   "cell_type": "markdown",
   "metadata": {},
   "source": [
    "Creating a dictionary for the columns names:"
   ]
  },
  {
   "cell_type": "code",
   "execution_count": 5,
   "metadata": {},
   "outputs": [],
   "source": [
    "columns_dict = {}\n",
    "columns_dict['BLSTKOM'] = 'county'\n",
    "columns_dict['AKTIVITET'] = 'activity'\n",
    "columns_dict['KON'] = 'sex'\n",
    "columns_dict['ALDER1'] = 'age'\n",
    "columns_dict['TID'] = 'year'\n",
    "columns_dict['INDHOLD'] = 'value'\n",
    "\n",
    "#var_dict = {} # var is for variable\n",
    "#var_dict['Football'] = 'football'"
   ]
  },
  {
   "cell_type": "markdown",
   "metadata": {},
   "source": [
    "**Step 1:** Downloading all of the football-variables in IDRAKT01"
   ]
  },
  {
   "cell_type": "code",
   "execution_count": 6,
   "metadata": {},
   "outputs": [
    {
     "name": "stdout",
     "output_type": "stream",
     "text": [
      "[{'code': 'BLSTKOM', 'values': ['*']}, {'code': 'AKTIVITET', 'values': ['A22']}, {'code': 'KON', 'values': ['*']}, {'code': 'ALDER1', 'values': ['*']}, {'code': 'Tid', 'values': ['*']}]\n"
     ]
    }
   ],
   "source": [
    "idrakt_api = DstApi('IDRAKT01')  #Creating the DST API which will allow us to interact with the API server\n",
    "params = idrakt_api._define_base_params(language='en') #Creating a parameter dictionary with the language set to English\n",
    "variables = params['variables'] # Returns a view, that we can edit\n",
    "variables[1]['values'] = ['A22'] # Choosing football as the activity (The ID for football is A22 Using code from: https://alemartinello.com/2022/02/24/dstapi/)\n",
    "print(variables)"
   ]
  },
  {
   "cell_type": "code",
   "execution_count": 7,
   "metadata": {},
   "outputs": [],
   "source": [
    "idrakt = idrakt_api.get_data(params=params) #Downloading the dataset"
   ]
  },
  {
   "cell_type": "code",
   "execution_count": 8,
   "metadata": {},
   "outputs": [
    {
     "data": {
      "text/html": [
       "<div>\n",
       "<style scoped>\n",
       "    .dataframe tbody tr th:only-of-type {\n",
       "        vertical-align: middle;\n",
       "    }\n",
       "\n",
       "    .dataframe tbody tr th {\n",
       "        vertical-align: top;\n",
       "    }\n",
       "\n",
       "    .dataframe thead th {\n",
       "        text-align: right;\n",
       "    }\n",
       "</style>\n",
       "<table border=\"1\" class=\"dataframe\">\n",
       "  <thead>\n",
       "    <tr style=\"text-align: right;\">\n",
       "      <th></th>\n",
       "      <th>BLSTKOM</th>\n",
       "      <th>AKTIVITET</th>\n",
       "      <th>KON</th>\n",
       "      <th>ALDER1</th>\n",
       "      <th>TID</th>\n",
       "      <th>INDHOLD</th>\n",
       "    </tr>\n",
       "  </thead>\n",
       "  <tbody>\n",
       "    <tr>\n",
       "      <th>0</th>\n",
       "      <td>Herning</td>\n",
       "      <td>Football</td>\n",
       "      <td>Men</td>\n",
       "      <td>Age, total</td>\n",
       "      <td>2017</td>\n",
       "      <td>4950</td>\n",
       "    </tr>\n",
       "    <tr>\n",
       "      <th>1</th>\n",
       "      <td>Herning</td>\n",
       "      <td>Football</td>\n",
       "      <td>Men</td>\n",
       "      <td>0-12 years</td>\n",
       "      <td>2017</td>\n",
       "      <td>1850</td>\n",
       "    </tr>\n",
       "    <tr>\n",
       "      <th>2</th>\n",
       "      <td>Herning</td>\n",
       "      <td>Football</td>\n",
       "      <td>Men</td>\n",
       "      <td>13-18 years</td>\n",
       "      <td>2017</td>\n",
       "      <td>1070</td>\n",
       "    </tr>\n",
       "    <tr>\n",
       "      <th>3</th>\n",
       "      <td>Herning</td>\n",
       "      <td>Football</td>\n",
       "      <td>Men</td>\n",
       "      <td>19-24 years</td>\n",
       "      <td>2017</td>\n",
       "      <td>660</td>\n",
       "    </tr>\n",
       "    <tr>\n",
       "      <th>4</th>\n",
       "      <td>Herning</td>\n",
       "      <td>Football</td>\n",
       "      <td>Men</td>\n",
       "      <td>25-59 years</td>\n",
       "      <td>2017</td>\n",
       "      <td>1250</td>\n",
       "    </tr>\n",
       "  </tbody>\n",
       "</table>\n",
       "</div>"
      ],
      "text/plain": [
       "   BLSTKOM AKTIVITET  KON       ALDER1   TID  INDHOLD\n",
       "0  Herning  Football  Men   Age, total  2017     4950\n",
       "1  Herning  Football  Men   0-12 years  2017     1850\n",
       "2  Herning  Football  Men  13-18 years  2017     1070\n",
       "3  Herning  Football  Men  19-24 years  2017      660\n",
       "4  Herning  Football  Men  25-59 years  2017     1250"
      ]
     },
     "execution_count": 8,
     "metadata": {},
     "output_type": "execute_result"
    }
   ],
   "source": [
    "idrakt.head() #Looking at the dataset"
   ]
  },
  {
   "cell_type": "markdown",
   "metadata": {},
   "source": [
    "**Step 2:** Rename coloums using colmns_dict"
   ]
  },
  {
   "cell_type": "code",
   "execution_count": 9,
   "metadata": {},
   "outputs": [
    {
     "data": {
      "text/html": [
       "<div>\n",
       "<style scoped>\n",
       "    .dataframe tbody tr th:only-of-type {\n",
       "        vertical-align: middle;\n",
       "    }\n",
       "\n",
       "    .dataframe tbody tr th {\n",
       "        vertical-align: top;\n",
       "    }\n",
       "\n",
       "    .dataframe thead th {\n",
       "        text-align: right;\n",
       "    }\n",
       "</style>\n",
       "<table border=\"1\" class=\"dataframe\">\n",
       "  <thead>\n",
       "    <tr style=\"text-align: right;\">\n",
       "      <th></th>\n",
       "      <th>county</th>\n",
       "      <th>activity</th>\n",
       "      <th>sex</th>\n",
       "      <th>age</th>\n",
       "      <th>year</th>\n",
       "      <th>value</th>\n",
       "    </tr>\n",
       "  </thead>\n",
       "  <tbody>\n",
       "    <tr>\n",
       "      <th>0</th>\n",
       "      <td>Herning</td>\n",
       "      <td>Football</td>\n",
       "      <td>Men</td>\n",
       "      <td>Age, total</td>\n",
       "      <td>2017</td>\n",
       "      <td>4950</td>\n",
       "    </tr>\n",
       "    <tr>\n",
       "      <th>1</th>\n",
       "      <td>Herning</td>\n",
       "      <td>Football</td>\n",
       "      <td>Men</td>\n",
       "      <td>0-12 years</td>\n",
       "      <td>2017</td>\n",
       "      <td>1850</td>\n",
       "    </tr>\n",
       "    <tr>\n",
       "      <th>2</th>\n",
       "      <td>Herning</td>\n",
       "      <td>Football</td>\n",
       "      <td>Men</td>\n",
       "      <td>13-18 years</td>\n",
       "      <td>2017</td>\n",
       "      <td>1070</td>\n",
       "    </tr>\n",
       "    <tr>\n",
       "      <th>3</th>\n",
       "      <td>Herning</td>\n",
       "      <td>Football</td>\n",
       "      <td>Men</td>\n",
       "      <td>19-24 years</td>\n",
       "      <td>2017</td>\n",
       "      <td>660</td>\n",
       "    </tr>\n",
       "    <tr>\n",
       "      <th>4</th>\n",
       "      <td>Herning</td>\n",
       "      <td>Football</td>\n",
       "      <td>Men</td>\n",
       "      <td>25-59 years</td>\n",
       "      <td>2017</td>\n",
       "      <td>1250</td>\n",
       "    </tr>\n",
       "  </tbody>\n",
       "</table>\n",
       "</div>"
      ],
      "text/plain": [
       "    county  activity  sex          age  year  value\n",
       "0  Herning  Football  Men   Age, total  2017   4950\n",
       "1  Herning  Football  Men   0-12 years  2017   1850\n",
       "2  Herning  Football  Men  13-18 years  2017   1070\n",
       "3  Herning  Football  Men  19-24 years  2017    660\n",
       "4  Herning  Football  Men  25-59 years  2017   1250"
      ]
     },
     "execution_count": 9,
     "metadata": {},
     "output_type": "execute_result"
    }
   ],
   "source": [
    "idrakt.rename(columns=columns_dict,inplace=True)\n",
    "idrakt.head()"
   ]
  },
  {
   "cell_type": "markdown",
   "metadata": {},
   "source": [
    "**Step 3:** Only keep rows where the variable is in `Age, total` and afterwards deleting the coloumn."
   ]
  },
  {
   "cell_type": "code",
   "execution_count": 10,
   "metadata": {},
   "outputs": [
    {
     "data": {
      "text/html": [
       "<div>\n",
       "<style scoped>\n",
       "    .dataframe tbody tr th:only-of-type {\n",
       "        vertical-align: middle;\n",
       "    }\n",
       "\n",
       "    .dataframe tbody tr th {\n",
       "        vertical-align: top;\n",
       "    }\n",
       "\n",
       "    .dataframe thead th {\n",
       "        text-align: right;\n",
       "    }\n",
       "</style>\n",
       "<table border=\"1\" class=\"dataframe\">\n",
       "  <thead>\n",
       "    <tr style=\"text-align: right;\">\n",
       "      <th></th>\n",
       "      <th>county</th>\n",
       "      <th>activity</th>\n",
       "      <th>sex</th>\n",
       "      <th>year</th>\n",
       "      <th>value</th>\n",
       "    </tr>\n",
       "  </thead>\n",
       "  <tbody>\n",
       "    <tr>\n",
       "      <th>0</th>\n",
       "      <td>Herning</td>\n",
       "      <td>Football</td>\n",
       "      <td>Men</td>\n",
       "      <td>2017</td>\n",
       "      <td>4950</td>\n",
       "    </tr>\n",
       "    <tr>\n",
       "      <th>6</th>\n",
       "      <td>Herning</td>\n",
       "      <td>Football</td>\n",
       "      <td>Sex, total</td>\n",
       "      <td>2017</td>\n",
       "      <td>6240</td>\n",
       "    </tr>\n",
       "    <tr>\n",
       "      <th>12</th>\n",
       "      <td>Herning</td>\n",
       "      <td>Football</td>\n",
       "      <td>Women</td>\n",
       "      <td>2017</td>\n",
       "      <td>1290</td>\n",
       "    </tr>\n",
       "    <tr>\n",
       "      <th>18</th>\n",
       "      <td>Horsens</td>\n",
       "      <td>Football</td>\n",
       "      <td>Men</td>\n",
       "      <td>2017</td>\n",
       "      <td>4580</td>\n",
       "    </tr>\n",
       "    <tr>\n",
       "      <th>24</th>\n",
       "      <td>Horsens</td>\n",
       "      <td>Football</td>\n",
       "      <td>Sex, total</td>\n",
       "      <td>2017</td>\n",
       "      <td>6240</td>\n",
       "    </tr>\n",
       "  </tbody>\n",
       "</table>\n",
       "</div>"
      ],
      "text/plain": [
       "     county  activity         sex  year  value\n",
       "0   Herning  Football         Men  2017   4950\n",
       "6   Herning  Football  Sex, total  2017   6240\n",
       "12  Herning  Football       Women  2017   1290\n",
       "18  Horsens  Football         Men  2017   4580\n",
       "24  Horsens  Football  Sex, total  2017   6240"
      ]
     },
     "execution_count": 10,
     "metadata": {},
     "output_type": "execute_result"
    }
   ],
   "source": [
    "#Only keeps rows with age = 'Age, total' and afterwards deleting the age coloumn\n",
    "idrakt = idrakt[idrakt['age'] == 'Age, total']\n",
    "idrakt.drop(columns=['age'],inplace=True)\n",
    "idrakt.head()"
   ]
  },
  {
   "cell_type": "markdown",
   "metadata": {},
   "source": [
    "**Step 4:** Only keep rows where the variable is in a region or total"
   ]
  },
  {
   "cell_type": "code",
   "execution_count": 11,
   "metadata": {},
   "outputs": [
    {
     "data": {
      "text/html": [
       "<div>\n",
       "<style scoped>\n",
       "    .dataframe tbody tr th:only-of-type {\n",
       "        vertical-align: middle;\n",
       "    }\n",
       "\n",
       "    .dataframe tbody tr th {\n",
       "        vertical-align: top;\n",
       "    }\n",
       "\n",
       "    .dataframe thead th {\n",
       "        text-align: right;\n",
       "    }\n",
       "</style>\n",
       "<table border=\"1\" class=\"dataframe\">\n",
       "  <thead>\n",
       "    <tr style=\"text-align: right;\">\n",
       "      <th></th>\n",
       "      <th>county</th>\n",
       "      <th>activity</th>\n",
       "      <th>sex</th>\n",
       "      <th>year</th>\n",
       "      <th>value</th>\n",
       "    </tr>\n",
       "  </thead>\n",
       "  <tbody>\n",
       "    <tr>\n",
       "      <th>180</th>\n",
       "      <td>Province Nordjylland</td>\n",
       "      <td>Football</td>\n",
       "      <td>Men</td>\n",
       "      <td>2019</td>\n",
       "      <td>30800</td>\n",
       "    </tr>\n",
       "    <tr>\n",
       "      <th>186</th>\n",
       "      <td>Province Nordjylland</td>\n",
       "      <td>Football</td>\n",
       "      <td>Sex, total</td>\n",
       "      <td>2019</td>\n",
       "      <td>40140</td>\n",
       "    </tr>\n",
       "    <tr>\n",
       "      <th>192</th>\n",
       "      <td>Province Nordjylland</td>\n",
       "      <td>Football</td>\n",
       "      <td>Women</td>\n",
       "      <td>2019</td>\n",
       "      <td>9340</td>\n",
       "    </tr>\n",
       "    <tr>\n",
       "      <th>288</th>\n",
       "      <td>Province Byen København</td>\n",
       "      <td>Football</td>\n",
       "      <td>Men</td>\n",
       "      <td>2017</td>\n",
       "      <td>43840</td>\n",
       "    </tr>\n",
       "    <tr>\n",
       "      <th>294</th>\n",
       "      <td>Province Byen København</td>\n",
       "      <td>Football</td>\n",
       "      <td>Sex, total</td>\n",
       "      <td>2017</td>\n",
       "      <td>49680</td>\n",
       "    </tr>\n",
       "  </tbody>\n",
       "</table>\n",
       "</div>"
      ],
      "text/plain": [
       "                      county  activity         sex  year  value\n",
       "180     Province Nordjylland  Football         Men  2019  30800\n",
       "186     Province Nordjylland  Football  Sex, total  2019  40140\n",
       "192     Province Nordjylland  Football       Women  2019   9340\n",
       "288  Province Byen København  Football         Men  2017  43840\n",
       "294  Province Byen København  Football  Sex, total  2017  49680"
      ]
     },
     "execution_count": 11,
     "metadata": {},
     "output_type": "execute_result"
    }
   ],
   "source": [
    "# Keeping rows where 'county' starts with \"Landsdel\" or is \"All Denmark\"\n",
    "idrakt = idrakt[idrakt['county'].str.startswith('Province') | (idrakt['county'] == 'All Denmark')]\n",
    "idrakt.head()"
   ]
  },
  {
   "cell_type": "markdown",
   "metadata": {},
   "source": [
    "**Step 5:** Sort the dataset by county, year and sex"
   ]
  },
  {
   "cell_type": "code",
   "execution_count": 12,
   "metadata": {},
   "outputs": [
    {
     "data": {
      "text/html": [
       "<div>\n",
       "<style scoped>\n",
       "    .dataframe tbody tr th:only-of-type {\n",
       "        vertical-align: middle;\n",
       "    }\n",
       "\n",
       "    .dataframe tbody tr th {\n",
       "        vertical-align: top;\n",
       "    }\n",
       "\n",
       "    .dataframe thead th {\n",
       "        text-align: right;\n",
       "    }\n",
       "</style>\n",
       "<table border=\"1\" class=\"dataframe\">\n",
       "  <thead>\n",
       "    <tr style=\"text-align: right;\">\n",
       "      <th></th>\n",
       "      <th>county</th>\n",
       "      <th>activity</th>\n",
       "      <th>sex</th>\n",
       "      <th>year</th>\n",
       "      <th>value</th>\n",
       "    </tr>\n",
       "  </thead>\n",
       "  <tbody>\n",
       "    <tr>\n",
       "      <th>0</th>\n",
       "      <td>All Denmark</td>\n",
       "      <td>Football</td>\n",
       "      <td>Sex, total</td>\n",
       "      <td>2014</td>\n",
       "      <td>374400</td>\n",
       "    </tr>\n",
       "    <tr>\n",
       "      <th>1</th>\n",
       "      <td>All Denmark</td>\n",
       "      <td>Football</td>\n",
       "      <td>Men</td>\n",
       "      <td>2014</td>\n",
       "      <td>307430</td>\n",
       "    </tr>\n",
       "    <tr>\n",
       "      <th>2</th>\n",
       "      <td>All Denmark</td>\n",
       "      <td>Football</td>\n",
       "      <td>Women</td>\n",
       "      <td>2014</td>\n",
       "      <td>66970</td>\n",
       "    </tr>\n",
       "    <tr>\n",
       "      <th>3</th>\n",
       "      <td>All Denmark</td>\n",
       "      <td>Football</td>\n",
       "      <td>Sex, total</td>\n",
       "      <td>2015</td>\n",
       "      <td>372640</td>\n",
       "    </tr>\n",
       "    <tr>\n",
       "      <th>4</th>\n",
       "      <td>All Denmark</td>\n",
       "      <td>Football</td>\n",
       "      <td>Men</td>\n",
       "      <td>2015</td>\n",
       "      <td>306540</td>\n",
       "    </tr>\n",
       "  </tbody>\n",
       "</table>\n",
       "</div>"
      ],
      "text/plain": [
       "        county  activity         sex  year   value\n",
       "0  All Denmark  Football  Sex, total  2014  374400\n",
       "1  All Denmark  Football         Men  2014  307430\n",
       "2  All Denmark  Football       Women  2014   66970\n",
       "3  All Denmark  Football  Sex, total  2015  372640\n",
       "4  All Denmark  Football         Men  2015  306540"
      ]
     },
     "execution_count": 12,
     "metadata": {},
     "output_type": "execute_result"
    }
   ],
   "source": [
    "# Sorting the dataset by county then year and then total sex, but first we customly sort the order of Sex\n",
    "# Define a custom sorting order\n",
    "sort_order = ['Sex, total', 'Men', 'Women']\n",
    "\n",
    "# Create a categorical type with the custom order\n",
    "idrakt['sex'] = pd.Categorical(idrakt['sex'], categories=sort_order, ordered=True)\n",
    "\n",
    "idrakt.sort_values(by=['county','year','sex'],inplace=True)\n",
    "idrakt.reset_index(drop=True,inplace=True)\n",
    "idrakt.head()"
   ]
  },
  {
   "cell_type": "code",
   "execution_count": 13,
   "metadata": {},
   "outputs": [],
   "source": [
    "# Creating a copy of the dataset where we only keep the rows with the value 'All Denmark' in the 'county' column\n",
    "#idrakt_all = idrakt[idrakt['county'] == 'All Denmark'].copy()\n",
    "#idrakt_all.drop(columns=['county'],inplace=True)\n",
    "#idrakt_all.head()"
   ]
  },
  {
   "cell_type": "code",
   "execution_count": 14,
   "metadata": {},
   "outputs": [],
   "source": [
    "#Sorting the total dataset by year\n",
    "#idrakt_all.sort_values(by='year',inplace=True)\n",
    "#idrakt_all.head()"
   ]
  },
  {
   "cell_type": "markdown",
   "metadata": {},
   "source": [
    "## Explore each data set"
   ]
  },
  {
   "cell_type": "markdown",
   "metadata": {},
   "source": [
    "Exploring the dataset with descriptive statistics"
   ]
  },
  {
   "cell_type": "markdown",
   "metadata": {},
   "source": [
    "# Analysis"
   ]
  },
  {
   "cell_type": "markdown",
   "metadata": {},
   "source": [
    "Plotting the time series"
   ]
  },
  {
   "cell_type": "markdown",
   "metadata": {},
   "source": [
    "Create a function that can be used to create a plot for each region"
   ]
  },
  {
   "cell_type": "markdown",
   "metadata": {},
   "source": [
    "Plotting the time series for each sex in each region"
   ]
  },
  {
   "cell_type": "markdown",
   "metadata": {},
   "source": [
    "# Conclusion"
   ]
  },
  {
   "cell_type": "markdown",
   "metadata": {},
   "source": [
    "ADD CONCISE CONLUSION."
   ]
  },
  {
   "cell_type": "markdown",
   "metadata": {},
   "source": [
    "We see that..."
   ]
  }
 ],
 "metadata": {
  "kernelspec": {
   "display_name": "base",
   "language": "python",
   "name": "python3"
  },
  "language_info": {
   "codemirror_mode": {
    "name": "ipython",
    "version": 3
   },
   "file_extension": ".py",
   "mimetype": "text/x-python",
   "name": "python",
   "nbconvert_exporter": "python",
   "pygments_lexer": "ipython3",
   "version": "3.11.7"
  },
  "toc-autonumbering": true,
  "vscode": {
   "interpreter": {
    "hash": "47ef90cdf3004d3f859f1fb202523c65c07ba7c22eefd261b181f4744e2d0403"
   }
  }
 },
 "nbformat": 4,
 "nbformat_minor": 4
}
