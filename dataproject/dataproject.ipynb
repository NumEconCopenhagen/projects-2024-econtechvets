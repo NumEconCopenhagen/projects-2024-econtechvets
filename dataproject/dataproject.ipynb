{
 "cells": [
  {
   "cell_type": "markdown",
   "metadata": {},
   "source": [
    "# Football in Denmark: Where are we playing?"
   ]
  },
  {
   "cell_type": "markdown",
   "metadata": {},
   "source": [
    "Imports and set magics:"
   ]
  },
  {
   "cell_type": "code",
   "execution_count": null,
   "metadata": {},
   "outputs": [],
   "source": [
    "# %pip install git+https://github.com/alemartinello/dstapi #Installing the API (only need to do once)"
   ]
  },
  {
   "cell_type": "code",
   "execution_count": null,
   "metadata": {},
   "outputs": [],
   "source": [
    "# %pip install pandas-datareader # Installing the data reader (only need to do once)"
   ]
  },
  {
   "cell_type": "code",
   "execution_count": null,
   "metadata": {},
   "outputs": [],
   "source": [
    "# %pip install geopandas \n",
    "# Installing the geopandas reader (only need to do once)"
   ]
  },
  {
   "cell_type": "code",
   "execution_count": null,
   "metadata": {},
   "outputs": [],
   "source": [
    "import pandas as pd\n",
    "from IPython.display import Image\n",
    "import numpy as np\n",
    "from matplotlib.ticker import FuncFormatter\n",
    "import geopandas as gpd\n",
    "import matplotlib.pyplot as plt\n",
    "import ipywidgets as widgets\n",
    "plt.rcParams.update({\"axes.grid\":True,\"grid.color\":\"black\",\"grid.alpha\":\"0.25\",\"grid.linestyle\":\"--\"})\n",
    "plt.rcParams.update({'font.size': 14})\n",
    "import ipywidgets as widgets\n",
    "# from matplotlib_venn import venn2\n",
    "from dstapi import DstApi # install with `pip install git+https://github.com/alemartinello/dstapi`\n",
    "\n",
    "# autoreload modules when code is run\n",
    "%load_ext autoreload\n",
    "%autoreload 2\n",
    "\n",
    "# user written modules\n",
    "import dataproject\n"
   ]
  },
  {
   "cell_type": "markdown",
   "metadata": {},
   "source": [
    "# Read data"
   ]
  },
  {
   "cell_type": "markdown",
   "metadata": {},
   "source": [
    "Creating a dictionary for the columns names:"
   ]
  },
  {
   "cell_type": "code",
   "execution_count": null,
   "metadata": {},
   "outputs": [],
   "source": [
    "columns_dict = {}\n",
    "columns_dict['BLSTKOM'] = 'region'\n",
    "columns_dict['AKTIVITET'] = 'activity'\n",
    "columns_dict['KON'] = 'sex'\n",
    "columns_dict['ALDER1'] = 'age'\n",
    "columns_dict['TID'] = 'year'\n",
    "columns_dict['POP'] = 'population'\n",
    "columns_dict['INDHOLD'] = 'players'"
   ]
  },
  {
   "cell_type": "markdown",
   "metadata": {},
   "source": [
    "**Step 1:** Downloading all of the football-variables in merged_df01"
   ]
  },
  {
   "cell_type": "code",
   "execution_count": null,
   "metadata": {},
   "outputs": [],
   "source": [
    "idrakt_api = DstApi('IDRAKT01')  #Creating the DST API which will allow us to interact with the API server\n",
    "params = idrakt_api._define_base_params(language='en') #Creating a parameter dictionary with the language set to English\n",
    "variables = params['variables'] # Returns a view, that we can edit\n",
    "variables[1]['values'] = ['A22'] # Choosing football as the activity (The ID for football is A22 Using code from: https://alemartinello.com/2022/02/24/dstapi/)\n",
    "print(variables)"
   ]
  },
  {
   "cell_type": "code",
   "execution_count": null,
   "metadata": {},
   "outputs": [],
   "source": [
    "idrakt = idrakt_api.get_data(params=params) #Downloading the dataset"
   ]
  },
  {
   "cell_type": "markdown",
   "metadata": {},
   "source": [
    "**Step 1A** Henter Befolkningsdata fra FOLK1AM"
   ]
  },
  {
   "cell_type": "code",
   "execution_count": null,
   "metadata": {},
   "outputs": [],
   "source": [
    "folk_api = DstApi('FOLK1A')  #Creating the DST API which will allow us to interact with the API server\n",
    "params = folk_api._define_base_params(language='en') #Creating a parameter dictionary with the language set to English\n",
    "variables = params['variables'] # Returns a view, that we can edit\n",
    "variables[2]['values'] = ['IALT']\n",
    "variables[3]['values'] = ['TOT']\n",
    "print(variables)"
   ]
  },
  {
   "cell_type": "code",
   "execution_count": null,
   "metadata": {},
   "outputs": [],
   "source": [
    "folk = folk_api.get_data(params=params) #Downloading the dataset"
   ]
  },
  {
   "cell_type": "markdown",
   "metadata": {},
   "source": [
    "# Clean data"
   ]
  },
  {
   "cell_type": "markdown",
   "metadata": {},
   "source": [
    "**Cleaning population data (FOLK1A)**"
   ]
  },
  {
   "cell_type": "code",
   "execution_count": null,
   "metadata": {},
   "outputs": [],
   "source": [
    "folk.drop(columns=['ALDER', 'CIVILSTAND'], inplace=True)"
   ]
  },
  {
   "cell_type": "code",
   "execution_count": null,
   "metadata": {},
   "outputs": [],
   "source": [
    "folk_q1 = folk.loc[folk['TID'].str.contains('Q1')] # Selecting only the first quarter of the year\n",
    "folk_q1['TID'] = folk_q1['TID'].str.replace('Q1', '')\n",
    "folk_q1['KØN'] = folk_q1['KØN'].str.replace('Total', 'Sex, total')\n",
    "folk_q1['OMRÅDE'] = folk_q1['OMRÅDE'].str.replace('Landsdel', 'Province')\n",
    "\n",
    "# Define a list of the regions in the dataset\n",
    "regions = ['All Denmark', 'Region Nordjylland', 'Region Midtjylland', 'Region Syddanmark', 'Region Sjælland', 'Region Hovedstaden']\n",
    "\n",
    "# Filter the DataFrame to keep only rows where 'OMRÅDE' matches one of the regions\n",
    "folk_q1 = folk_q1[folk_q1['OMRÅDE'].isin(regions)]\n",
    "folk_q1.head()"
   ]
  },
  {
   "cell_type": "markdown",
   "metadata": {},
   "source": [
    "**Cleaning football data (IDRAKT01)**"
   ]
  },
  {
   "cell_type": "markdown",
   "metadata": {},
   "source": [
    "**Step 2:** Only keep rows where the variable is in `Age, total` and afterwards deleting the coloumn."
   ]
  },
  {
   "cell_type": "code",
   "execution_count": null,
   "metadata": {},
   "outputs": [],
   "source": [
    "#Only keeps rows with age = 'Age, total' and afterwards deleting the age coloumn\n",
    "idrakt = idrakt[idrakt['ALDER1'] == 'Age, total']\n",
    "idrakt.drop(columns=['ALDER1'],inplace=True)"
   ]
  },
  {
   "cell_type": "markdown",
   "metadata": {},
   "source": [
    "Summarizing provinces to regions:"
   ]
  },
  {
   "cell_type": "code",
   "execution_count": null,
   "metadata": {},
   "outputs": [],
   "source": [
    "def map_regions(BLSTKOM):\n",
    "    if BLSTKOM == 'All Denmark':\n",
    "        return 'All Denmark'\n",
    "    elif BLSTKOM == 'Province Nordjylland':\n",
    "        return 'Region Nordjylland'\n",
    "    elif BLSTKOM in ['Province Vestjylland', 'Province Østjylland']:\n",
    "        return 'Region Midtjylland'\n",
    "    elif BLSTKOM in ['Province Fyn', 'Province Sydjylland']:\n",
    "        return 'Region Syddanmark'\n",
    "    elif BLSTKOM in ['Province Østsjælland', 'Province Vest- og Sydsjælland']:\n",
    "        return 'Region Sjælland'\n",
    "    elif BLSTKOM in ['Province Bornholm', 'Province Byen København', 'Province Københavns omegn', 'Province Nordsjælland']:\n",
    "        return 'Region Hovedstaden'\n",
    "    else:\n",
    "        return BLSTKOM  # Keep the original value for non-province entries\n",
    "\n",
    "# Apply the function and update the 'BLSTKOM' column in place\n",
    "idrakt['BLSTKOM'] = idrakt['BLSTKOM'].apply(map_regions)"
   ]
  },
  {
   "cell_type": "markdown",
   "metadata": {},
   "source": [
    "Only keeping regions and all of Denmark"
   ]
  },
  {
   "cell_type": "code",
   "execution_count": null,
   "metadata": {},
   "outputs": [],
   "source": [
    "# Filter the DataFrame to keep only rows where 'BLSTKOM' matches one of the regions\n",
    "idrakt = idrakt[idrakt['BLSTKOM'].isin(regions)]\n",
    "\n",
    "# Display the first few rows to verify the filtering\n",
    "idrakt.head()"
   ]
  },
  {
   "cell_type": "markdown",
   "metadata": {},
   "source": [
    "## Merging the two datasets and the sorting:"
   ]
  },
  {
   "cell_type": "code",
   "execution_count": null,
   "metadata": {},
   "outputs": [],
   "source": [
    "idrakt['TID'] = idrakt['TID'].astype(str)\n",
    "folk_q1['TID'] = folk_q1['TID'].astype(str)\n",
    "\n",
    "consolidated_df = pd.merge(\n",
    "    idrakt,\n",
    "    folk_q1.rename(columns={'INDHOLD': 'POP'}),  # Rename INDHOLD to POP in folk_q1 before merging\n",
    "    how='left',  # Keep all rows from idrakt\n",
    "    left_on=['BLSTKOM', 'KON', 'TID'],  # Columns to match in idrakt\n",
    "    right_on=['OMRÅDE', 'KØN', 'TID']  # Corresponding columns to match in folk_q1\n",
    ")\n",
    "consolidated_df.drop(['OMRÅDE', 'KØN'], axis=1, inplace=True) #Drops unnessecary columns\n",
    "\n",
    "#We need to add across provinces within the regions\n",
    "def first_value(series):\n",
    "    return series.iloc[0]\n",
    "\n",
    "merged_df = consolidated_df.groupby(['region', 'sex', 'year']).agg({'players': 'sum', 'population': first_value}).reset_index()\n",
    "\n",
    "# rename columns\n",
    "merged_df.rename(columns=columns_dict,inplace=True)"
   ]
  },
  {
   "cell_type": "markdown",
   "metadata": {},
   "source": [
    "Sort the dataset by region, year and sex"
   ]
  },
  {
   "cell_type": "code",
   "execution_count": null,
   "metadata": {},
   "outputs": [],
   "source": [
    "# Sorting the dataset by county then year and then total sex, but first we customly sort the order of Sex\n",
    "# Define a custom sorting order\n",
    "sort_order = ['Sex, total', 'Men', 'Women']\n",
    "\n",
    "# Create a categorical type with the custom order\n",
    "merged_df['sex'] = pd.Categorical(merged_df['sex'], categories=sort_order, ordered=True)\n",
    "\n",
    "merged_df.sort_values(by=['region','year','sex'],inplace=True)\n",
    "merged_df.reset_index(drop=True,inplace=True)\n",
    "merged_df.head()"
   ]
  },
  {
   "cell_type": "markdown",
   "metadata": {},
   "source": [
    "# Analysis across genders"
   ]
  },
  {
   "cell_type": "markdown",
   "metadata": {},
   "source": [
    "Here we calculate the total number of Danish football players split based on sex. We have made the graph in the py-file as total_players_dk."
   ]
  },
  {
   "cell_type": "code",
   "execution_count": null,
   "metadata": {},
   "outputs": [],
   "source": [
    "from dataproject import total_players_dk\n",
    "total_players_dk(merged_df)\n",
    "# Display the saved plot in the notebook\n",
    "Image(filename='stacked_bar_chart.png')"
   ]
  },
  {
   "cell_type": "markdown",
   "metadata": {},
   "source": [
    "It is hard to see the relative development between the sexes and for total. Hence, we index the values and display here."
   ]
  },
  {
   "cell_type": "code",
   "execution_count": null,
   "metadata": {},
   "outputs": [],
   "source": [
    "# Assuming df is your DataFrame and you call this function in your Jupyter Notebook\n",
    "from dataproject import index_players_dk\n",
    "index_players_dk(merged_df)\n",
    "Image(filename='indexed_players_chart.png')"
   ]
  },
  {
   "cell_type": "markdown",
   "metadata": {},
   "source": [
    "2018 women suddenly increases a lot towards 2019. The lockdown in 2020 is visuably for both sexes. However, afterwards, women footballers continues to increase with a much higher rate than men. Actually we see, that the increase in football players does not at all correspond to the increment in population. That could have something to do with the fact, that we look at total population, and not the population in the age group 6-60 years (the age group, where most football players are)."
   ]
  },
  {
   "cell_type": "markdown",
   "metadata": {},
   "source": [
    "**Annual growth contributions**"
   ]
  },
  {
   "cell_type": "code",
   "execution_count": null,
   "metadata": {},
   "outputs": [],
   "source": [
    "from dataproject import plot_growth_contributions_all_denmark\n",
    "plot_growth_contributions_all_denmark(merged_df)\n",
    "# Display the saved plot\n",
    "Image(filename='growth_contributions_all_denmark.png')"
   ]
  },
  {
   "cell_type": "markdown",
   "metadata": {},
   "source": [
    "The figure above shows that even though women increases a lot, the contributions to the overall growth is fairly dominated by men because of the larger base. "
   ]
  },
  {
   "cell_type": "markdown",
   "metadata": {},
   "source": [
    "# Analysis across geography"
   ]
  },
  {
   "cell_type": "markdown",
   "metadata": {},
   "source": [
    "Plotting the number of football players by region in an interactive graph. \n",
    "\n",
    "Click the names in the legend to hide/show the data for a specific region or All Denmark."
   ]
  },
  {
   "cell_type": "code",
   "execution_count": null,
   "metadata": {},
   "outputs": [],
   "source": [
    "from dataproject import process_data, plot_data\n",
    "\n",
    "# Process the data\n",
    "grouped_df = process_data(merged_df)\n",
    "\n",
    "# Plot the data\n",
    "plot_data(grouped_df)"
   ]
  },
  {
   "cell_type": "markdown",
   "metadata": {},
   "source": [
    "Comment: The graph shows how just two Regions are increasing in 2022 compared to 2014, i.e. Region Hovedstaden and Region Nordjylland. The other regions are decreasing or stagnating. However, the tendency across regions are the same as "
   ]
  },
  {
   "cell_type": "markdown",
   "metadata": {},
   "source": [
    "**Making a plot of the share of players in each region compared to the population in the given region.**\n",
    "\n",
    "The plot as well is interactive. Click the names in the legend to hide/show the data for a specific region or All Denmark."
   ]
  },
  {
   "cell_type": "code",
   "execution_count": null,
   "metadata": {},
   "outputs": [],
   "source": [
    "from dataproject import calculate_player_share, plot_share_data\n",
    "\n",
    "# Calculate the share of players in population\n",
    "processed_df = calculate_player_share(merged_df)\n",
    "\n",
    "# Plot the data\n",
    "plot_share_data(processed_df)"
   ]
  },
  {
   "cell_type": "markdown",
   "metadata": {},
   "source": [
    "Making a plot of the sexes across counties"
   ]
  },
  {
   "cell_type": "code",
   "execution_count": null,
   "metadata": {},
   "outputs": [],
   "source": [
    "from dataproject import calculate_geographic_shares\n",
    "\n",
    "# Assuming df is your DataFrame with football player data\n",
    "geographic_shares = calculate_geographic_shares(idrakt)\n",
    "\n",
    "import matplotlib.pyplot as plt\n",
    "\n",
    "# Creating a bar plot\n",
    "geographic_shares.plot(kind='bar', x='county', y='share')\n",
    "plt.title('Share of Football Players by Geography')\n",
    "plt.xlabel('Geography')\n",
    "plt.ylabel('Share')\n",
    "plt.show()\n"
   ]
  },
  {
   "cell_type": "markdown",
   "metadata": {},
   "source": [
    "# Conclusion"
   ]
  },
  {
   "cell_type": "markdown",
   "metadata": {},
   "source": [
    "ADD CONCISE CONLUSION."
   ]
  },
  {
   "cell_type": "markdown",
   "metadata": {},
   "source": [
    "We see that..."
   ]
  }
 ],
 "metadata": {
  "kernelspec": {
   "display_name": "base",
   "language": "python",
   "name": "python3"
  },
  "language_info": {
   "codemirror_mode": {
    "name": "ipython",
    "version": 3
   },
   "file_extension": ".py",
   "mimetype": "text/x-python",
   "name": "python",
   "nbconvert_exporter": "python",
   "pygments_lexer": "ipython3",
   "version": "3.11.8"
  },
  "toc-autonumbering": true,
  "vscode": {
   "interpreter": {
    "hash": "47ef90cdf3004d3f859f1fb202523c65c07ba7c22eefd261b181f4744e2d0403"
   }
  }
 },
 "nbformat": 4,
 "nbformat_minor": 4
}
