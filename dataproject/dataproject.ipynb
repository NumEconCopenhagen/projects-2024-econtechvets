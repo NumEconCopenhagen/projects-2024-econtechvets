{
 "cells": [
  {
   "cell_type": "markdown",
   "metadata": {},
   "source": [
    "# Football in Denmark: Where are we playing?"
   ]
  },
  {
   "cell_type": "markdown",
   "metadata": {},
   "source": [
    "Imports and set magics:"
   ]
  },
  {
   "cell_type": "code",
   "execution_count": null,
   "metadata": {},
   "outputs": [],
   "source": [
    "# %pip install git+https://github.com/alemartinello/dstapi #Installing the API (only need to do once)"
   ]
  },
  {
   "cell_type": "code",
   "execution_count": null,
   "metadata": {},
   "outputs": [],
   "source": [
    "# %pip install pandas-datareader # Installing the data reader (only need to do once)"
   ]
  },
  {
   "cell_type": "code",
   "execution_count": null,
   "metadata": {},
   "outputs": [],
   "source": [
    "# %pip install geopandas \n",
    "# Installing the geopandas reader (only need to do once)"
   ]
  },
  {
   "cell_type": "code",
   "execution_count": null,
   "metadata": {},
   "outputs": [],
   "source": [
    "import pandas as pd\n",
    "import numpy as np\n",
    "from matplotlib.ticker import FuncFormatter\n",
    "import geopandas as gpd\n",
    "import matplotlib.pyplot as plt\n",
    "plt.rcParams.update({\"axes.grid\":True,\"grid.color\":\"black\",\"grid.alpha\":\"0.25\",\"grid.linestyle\":\"--\"})\n",
    "plt.rcParams.update({'font.size': 14})\n",
    "import ipywidgets as widgets\n",
    "# from matplotlib_venn import venn2\n",
    "from dstapi import DstApi # install with `pip install git+https://github.com/alemartinello/dstapi`\n",
    "\n",
    "# autoreload modules when code is run\n",
    "%load_ext autoreload\n",
    "%autoreload 2\n",
    "\n",
    "# user written modules\n",
    "import dataproject\n"
   ]
  },
  {
   "cell_type": "markdown",
   "metadata": {},
   "source": [
    "# Read data"
   ]
  },
  {
   "cell_type": "markdown",
   "metadata": {},
   "source": [
    "Creating a dictionary for the columns names:"
   ]
  },
  {
   "cell_type": "code",
   "execution_count": null,
   "metadata": {},
   "outputs": [],
   "source": [
    "columns_dict = {}\n",
    "columns_dict['BLSTKOM'] = 'region'\n",
    "columns_dict['AKTIVITET'] = 'activity'\n",
    "columns_dict['KON'] = 'sex'\n",
    "columns_dict['ALDER1'] = 'age'\n",
    "columns_dict['TID'] = 'year'\n",
    "# columns_dict['POP'] = 'population'\n",
    "# columns_dict['INDHOLD'] = 'players'\n",
    "\n",
    "#var_dict = {} # var is for variable\n",
    "#var_dict['Football'] = 'football'"
   ]
  },
  {
   "cell_type": "markdown",
   "metadata": {},
   "source": [
    "**Step 1:** Downloading all of the football-variables in merged_df01"
   ]
  },
  {
   "cell_type": "code",
   "execution_count": null,
   "metadata": {},
   "outputs": [],
   "source": [
    "idrakt_api = DstApi('IDRAKT01')  #Creating the DST API which will allow us to interact with the API server\n",
    "params = idrakt_api._define_base_params(language='en') #Creating a parameter dictionary with the language set to English\n",
    "variables = params['variables'] # Returns a view, that we can edit\n",
    "variables[1]['values'] = ['A22'] # Choosing football as the activity (The ID for football is A22 Using code from: https://alemartinello.com/2022/02/24/dstapi/)\n",
    "print(variables)"
   ]
  },
  {
   "cell_type": "code",
   "execution_count": null,
   "metadata": {},
   "outputs": [],
   "source": [
    "idrakt = idrakt_api.get_data(params=params) #Downloading the dataset"
   ]
  },
  {
   "cell_type": "markdown",
   "metadata": {},
   "source": [
    "**Step 1A** Henter Befolkningsdata fra FOLK1AM"
   ]
  },
  {
   "cell_type": "code",
   "execution_count": null,
   "metadata": {},
   "outputs": [],
   "source": [
    "folk_api = DstApi('FOLK1A')  #Creating the DST API which will allow us to interact with the API server\n",
    "params = folk_api._define_base_params(language='en') #Creating a parameter dictionary with the language set to English\n",
    "variables = params['variables'] # Returns a view, that we can edit\n",
    "variables[2]['values'] = ['IALT']\n",
    "variables[3]['values'] = ['TOT']\n",
    "print(variables)"
   ]
  },
  {
   "cell_type": "code",
   "execution_count": null,
   "metadata": {},
   "outputs": [],
   "source": [
    "folk = folk_api.get_data(params=params) #Downloading the dataset"
   ]
  },
  {
   "cell_type": "code",
   "execution_count": null,
   "metadata": {},
   "outputs": [],
   "source": [
    "folk.head() #Looking at the dataset"
   ]
  },
  {
   "cell_type": "markdown",
   "metadata": {},
   "source": [
    "# Clean data"
   ]
  },
  {
   "cell_type": "markdown",
   "metadata": {},
   "source": [
    "**Cleaning population data (FOLK1A)**"
   ]
  },
  {
   "cell_type": "code",
   "execution_count": null,
   "metadata": {},
   "outputs": [],
   "source": [
    "folk.drop(columns=['ALDER'],inplace=True)\n",
    "folk.drop(columns=['CIVILSTAND'],inplace=True)\n",
    "folk.head()"
   ]
  },
  {
   "cell_type": "code",
   "execution_count": null,
   "metadata": {},
   "outputs": [],
   "source": [
    "folk_q1 = folk.loc[folk['TID'].str.contains('Q1')] # Selecting only the first quarter of the year\n",
    "folk_q1['TID'] = folk_q1['TID'].str.replace('Q1', '')\n",
    "folk_q1['KØN'] = folk_q1['KØN'].str.replace('Total', 'Sex, total')\n",
    "folk_q1['OMRÅDE'] = folk_q1['OMRÅDE'].str.replace('Landsdel', 'Province')\n",
    "folk_q1.head()"
   ]
  },
  {
   "cell_type": "markdown",
   "metadata": {},
   "source": [
    "**Cleaning football data (IDRAKT01)**"
   ]
  },
  {
   "cell_type": "markdown",
   "metadata": {},
   "source": [
    "**Step 2:** Only keep rows where the variable is in `Age, total` and afterwards deleting the coloumn."
   ]
  },
  {
   "cell_type": "code",
   "execution_count": null,
   "metadata": {},
   "outputs": [],
   "source": [
    "#Only keeps rows with age = 'Age, total' and afterwards deleting the age coloumn\n",
    "idrakt = idrakt[idrakt['ALDER1'] == 'Age, total']\n",
    "idrakt.drop(columns=['ALDER1'],inplace=True)\n",
    "idrakt.head()"
   ]
  },
  {
   "cell_type": "markdown",
   "metadata": {},
   "source": [
    "Summarizing provinces to regions:"
   ]
  },
  {
   "cell_type": "code",
   "execution_count": null,
   "metadata": {},
   "outputs": [],
   "source": [
    "def map_regions(BLSTKOM):\n",
    "    if BLSTKOM == 'All Denmark':\n",
    "        return 'All Denmark'\n",
    "    if BLSTKOM in ['Province Nordjylland']:\n",
    "        return 'Region Nordjylland'\n",
    "    elif BLSTKOM in ['Province Vestjylland', 'Province Østjylland']:\n",
    "        return 'Region Midtjylland'\n",
    "    elif BLSTKOM in ['Province Fyn', 'Province Sydjylland']:\n",
    "        return 'Region Syddanmark'\n",
    "    elif BLSTKOM in ['Province Østsjælland', 'Province Vest- og Sydsjælland']:\n",
    "        return 'Region Sjælland'\n",
    "    elif BLSTKOM in ['Province Bornholm', 'Province Byen København', 'Province København omegn', 'Province Nordsjælland']:\n",
    "        return 'Region Hovedstaden'\n",
    "\n",
    "# Apply the function to create the new variable 'county_a'\n",
    "idrakt['county_a'] = idrakt['BLSTKOM'].apply(map_regions)\n",
    "idrakt.head(100)"
   ]
  },
  {
   "cell_type": "markdown",
   "metadata": {},
   "source": [
    "Only keeping regions and all of Denmark"
   ]
  },
  {
   "cell_type": "code",
   "execution_count": null,
   "metadata": {},
   "outputs": [],
   "source": [
    "# Keeping rows where 'county' starts with \"Landsdel\" or is \"All Denmark\"\n",
    "idrakt = idrakt[idrakt['BLSTKOM'].str.startswith('Region') | (idrakt['BLSTKOM'] == 'All Denmark')]\n",
    "idrakt.head(100)"
   ]
  },
  {
   "cell_type": "markdown",
   "metadata": {},
   "source": [
    "**Merging the two datasets:**"
   ]
  },
  {
   "cell_type": "code",
   "execution_count": null,
   "metadata": {},
   "outputs": [],
   "source": [
    "idrakt['TID'] = idrakt['TID'].astype(str)\n",
    "folk_q1['TID'] = folk_q1['TID'].astype(str)\n",
    "\n",
    "merged_df = pd.merge(\n",
    "    idrakt,\n",
    "    folk_q1.rename(columns={'INDHOLD': 'POP'}),  # Rename INDHOLD to POP in folk_q1 before merging\n",
    "    how='left',  # Keep all rows from idrakt\n",
    "    left_on=['BLSTKOM', 'KON', 'TID'],  # Columns to match in idrakt\n",
    "    right_on=['OMRÅDE', 'KØN', 'TID']  # Corresponding columns to match in folk_q1\n",
    ")\n",
    "merged_df.drop(['OMRÅDE', 'KØN'], axis=1, inplace=True) #Drops unnessecary columns"
   ]
  },
  {
   "cell_type": "code",
   "execution_count": null,
   "metadata": {},
   "outputs": [],
   "source": [
    "merged_df.head()"
   ]
  },
  {
   "cell_type": "markdown",
   "metadata": {},
   "source": [
    "**Step 3:** Rename coloums using colmns_dict"
   ]
  },
  {
   "cell_type": "code",
   "execution_count": null,
   "metadata": {},
   "outputs": [],
   "source": [
    "#merged_df.rename(columns=columns_dict,inplace=True)\n",
    "#merged_df.head()\n",
    "\n",
    "idrakt.rename(columns=columns_dict,inplace=True)\n",
    "idrakt.head()"
   ]
  },
  {
   "cell_type": "markdown",
   "metadata": {},
   "source": [
    "**Step 5:** Sort the dataset by county, year and sex"
   ]
  },
  {
   "cell_type": "code",
   "execution_count": null,
   "metadata": {},
   "outputs": [],
   "source": [
    "# Sorting the dataset by county then year and then total sex, but first we customly sort the order of Sex\n",
    "# Define a custom sorting order\n",
    "sort_order = ['Sex, total', 'Men', 'Women']\n",
    "\n",
    "# Create a categorical type with the custom order\n",
    "idrakt['sex'] = pd.Categorical(idrakt['sex'], categories=sort_order, ordered=True)\n",
    "\n",
    "idrakt.sort_values(by=['county','year','sex'],inplace=True)\n",
    "idrakt.reset_index(drop=True,inplace=True)\n",
    "idrakt.head()"
   ]
  },
  {
   "cell_type": "code",
   "execution_count": null,
   "metadata": {},
   "outputs": [],
   "source": [
    "# create a new column named 'county_B' with the a broader definition of the counties. If county is All Denmark, then county_B is All Denmark.\n",
    "# county_B is split into Jylland, Sjælland and Fyn.\n",
    "# Therefore I sum the values of the counties in Jylland, Sjælland and Fyn to get the values of the broader definition of the counties.\n",
    "# Here Jylland is the counties: 'Province Nordjylland', 'Province Sydjylland', 'Province Vestjylland', 'Province Østjylland'\n",
    "# Sjælland is the counties: 'Province Bornholm', 'Province Københavns omegn', 'Province Byen København', 'Province Nordsjælland', 'Province Østsjælland', 'Province Vest- og Sydsjælland'\n",
    "# Fyn is the counties: 'Province Fyn'\n",
    "\n",
    "# Define a function to map each county to its broader definition\n",
    "def map_county_b(county):\n",
    "    if county == 'All Denmark':\n",
    "        return 'All Denmark'\n",
    "    if county in ['Province Nordjylland', 'Province Sydjylland', 'Province Vestjylland', 'Province Østjylland']:\n",
    "        return 'Jylland'\n",
    "    elif county in ['Province Bornholm', 'Province Københavns omegn', 'Province Byen København', 'Province Nordsjælland', 'Province Østsjælland', 'Province Vest- og Sydsjælland']:\n",
    "        return 'Sjælland'\n",
    "    elif county == 'Province Fyn':\n",
    "        return 'Fyn'\n",
    "\n",
    "# Apply the function to create the new variable 'county_b'\n",
    "idrakt['county_b'] = idrakt['county'].apply(map_county_b)\n",
    "\n",
    "# Print the first few rows to verify the new variable\n",
    "idrakt.head()\n"
   ]
  },
  {
   "cell_type": "code",
   "execution_count": null,
   "metadata": {},
   "outputs": [],
   "source": [
    "# Creating a copy of the dataset where we only keep the rows with the value 'All Denmark' in the 'county' column\n",
    "idrakt_all = idrakt[idrakt['county'] == 'All Denmark'].copy()\n",
    "idrakt_all.drop(columns=['county'],inplace=True)\n",
    "idrakt_all.head()"
   ]
  },
  {
   "cell_type": "code",
   "execution_count": null,
   "metadata": {},
   "outputs": [],
   "source": [
    "# Sorting the total dataset by year\n",
    "idrakt_all.sort_values(by='year',inplace=True)\n",
    "idrakt_all.head()"
   ]
  },
  {
   "cell_type": "markdown",
   "metadata": {},
   "source": [
    "# Analysis across genders"
   ]
  },
  {
   "cell_type": "markdown",
   "metadata": {},
   "source": [
    "Here we calculate the total number of Danish football players split based on sex. "
   ]
  },
  {
   "cell_type": "code",
   "execution_count": null,
   "metadata": {},
   "outputs": [],
   "source": [
    "# Filtering out 'Sex, total' from the dataset\n",
    "idrakt_stackedbar = idrakt_all[idrakt_all['sex'] != 'Sex, total']\n",
    "\n",
    "# Grouping by 'year' and 'sex', then summing the values\n",
    "grouped_idrakt_stackedbar = idrakt_stackedbar.groupby(['year', 'sex'])['value'].sum().unstack()\n",
    "\n",
    "# Plotting the stacked bar chart\n",
    "grouped_idrakt_stackedbar.plot(kind='bar', stacked=True, figsize=(10, 6))\n",
    "plt.title('Yearly Values Summed by Sex (Excluding Total)')\n",
    "plt.xlabel('Year')\n",
    "plt.ylabel('# of Danish Football Players')\n",
    "plt.legend(labels=['Women', 'Men'], title='Sex')\n",
    "plt.tight_layout()\n",
    "plt.show()"
   ]
  },
  {
   "cell_type": "markdown",
   "metadata": {},
   "source": [
    "It is hard to see the relative development between the sexes and for total. Hence, we index the values and display here."
   ]
  },
  {
   "cell_type": "code",
   "execution_count": null,
   "metadata": {},
   "outputs": [],
   "source": [
    "index_values = idrakt_all[idrakt_all['year'] == 2014].set_index('sex')['value'] # Create a series with the 2014 values\n",
    "indexed_idrakt_all = idrakt_all.set_index(['year', 'sex']) # Set the index\n",
    "indexed_idrakt_all['indexed_value'] = 100*indexed_idrakt_all['value'] / indexed_idrakt_all['value'].unstack().loc[2014] # Calculate the indexed values\n",
    "\n",
    "# Resetting index for plotting\n",
    "indexed_idrakt_all = indexed_idrakt_all.reset_index() \n",
    "\n",
    "# Step 2: Plot the indexed values\n",
    "plt.figure(figsize=(10, 6))\n",
    "for sex, group in indexed_idrakt_all.groupby('sex'): # Loop over the groups\n",
    "    plt.plot(group['year'], group['indexed_value'], marker='o', label=sex) \n",
    "\n",
    "plt.title('Relative Development Indexed to 2014 Values')\n",
    "plt.xlabel('Year')\n",
    "plt.ylabel('Index (2014 = 100)')\n",
    "plt.legend()\n",
    "plt.grid(True)\n",
    "plt.show()"
   ]
  },
  {
   "cell_type": "markdown",
   "metadata": {},
   "source": [
    "2018 women suddenly increases a lot towards 2019. The lockdown in 2020 is visuably for both sexes. However, afterwards, women footballers continues to increase with a much higher rate than men."
   ]
  },
  {
   "cell_type": "markdown",
   "metadata": {},
   "source": [
    "Annual growth contributions"
   ]
  },
  {
   "cell_type": "code",
   "execution_count": null,
   "metadata": {},
   "outputs": [],
   "source": [
    "# Step 1: Calculate year-over-year change for each category\n",
    "idrakt_all['year_over_year_change'] = idrakt_all.groupby('sex')['value'].diff()\n",
    "\n",
    "# Step 2: Calculate the contribution for each category\n",
    "# First, create a pivot for the total values to align with the changes data\n",
    "total_values_previous_year = idrakt_all[idrakt_all['sex'] == 'Sex, total'][['year', 'value']].rename(columns={'value': 'total_previous_year'})\n",
    "total_values_previous_year['year'] += 1  # Aligning total of year n-1 with year n\n",
    "\n",
    "# Merge this back into the main DataFrame\n",
    "idrakt_all = pd.merge(idrakt_all, total_values_previous_year, on='year', how='left')\n",
    "\n",
    "# Now calculate the contributions\n",
    "idrakt_all['contribution'] = idrakt_all.apply(lambda x: x['year_over_year_change'] / x['total_previous_year'] if x['sex'] != 'Sex, total' else None, axis=1)\n",
    "\n",
    "# Step 3: Pivot the data for plotting\n",
    "pivot_contribution = idrakt_all.pivot(index='year', columns='sex', values='contribution')\n",
    "\n",
    "# Visualize the contributions\n",
    "pivot_contribution[['Men', 'Women']].plot(kind='bar', stacked=True, figsize=(10, 6))\n",
    "plt.title('Growth Contributions from Men and Women')\n",
    "plt.xlabel('Year')\n",
    "plt.ylabel('Growth p.a. (%)')\n",
    "plt.legend(['Men', 'Women'])\n",
    "plt.show()"
   ]
  },
  {
   "cell_type": "markdown",
   "metadata": {},
   "source": [
    "The figure above shows that even though women increases a lot, the contributions to the overall growth is fairly dominated by men because of the larger base. "
   ]
  },
  {
   "cell_type": "markdown",
   "metadata": {},
   "source": [
    "# Analysis across geography"
   ]
  },
  {
   "cell_type": "markdown",
   "metadata": {},
   "source": [
    "Plotting the number of football players by county"
   ]
  },
  {
   "cell_type": "code",
   "execution_count": null,
   "metadata": {},
   "outputs": [],
   "source": [
    "# Filter the DataFrame for 'Sex, total'\n",
    "idrakt_sex_total = idrakt[idrakt['sex'] == 'Sex, total']\n",
    "\n",
    "# Create a series with the 2014 values\n",
    "index_values = idrakt_sex_total[idrakt_sex_total['year'] == 2014].set_index('county')['value']\n",
    "\n",
    "# Set the index\n",
    "indexed_idrakt = idrakt_sex_total.set_index(['year', 'county'])\n",
    "\n",
    "# Calculate the indexed values\n",
    "indexed_idrakt['indexed_value'] = 100*indexed_idrakt['value'] / indexed_idrakt['value'].unstack().loc[2014]\n",
    "\n",
    "# Resetting index for plotting\n",
    "indexed_idrakt = indexed_idrakt.reset_index()\n",
    "\n",
    "# Plot the indexed values\n",
    "plt.figure(figsize=(10, 6))\n",
    "for county, group in indexed_idrakt.groupby('county'): # Loop over the groups\n",
    "    plt.plot(group['year'], group['indexed_value'], marker='o', label=county)\n",
    "\n",
    "plt.title('Relative Development Indexed to 2014 Values')\n",
    "plt.xlabel('Year')\n",
    "plt.ylabel('Index (2014 = 100)')\n",
    "plt.legend()\n",
    "plt.grid(True)\n",
    "plt.show()"
   ]
  },
  {
   "cell_type": "markdown",
   "metadata": {},
   "source": [
    "Because it is difficult to see what is going on, we make a plot, splitting into the broader county definition, county_b"
   ]
  },
  {
   "cell_type": "code",
   "execution_count": null,
   "metadata": {},
   "outputs": [],
   "source": [
    "# Filter the DataFrame for 'Sex, total'\n",
    "idrakt_sex_total_2 = idrakt[idrakt['sex'] == 'Sex, total']\n",
    "\n",
    "# Pivot the DataFrame\n",
    "pivot_table = idrakt_sex_total_2.pivot_table(index='year', columns='county_b', values='value', aggfunc='sum')\n",
    "\n",
    "# Calculate indexed values relative to 2014\n",
    "indexed_values = pivot_table.div(pivot_table.loc[2014]) * 100\n",
    "\n",
    "# Plot the indexed values\n",
    "plt.figure(figsize=(10, 6))\n",
    "for county_b in indexed_values.columns:\n",
    "    plt.plot(indexed_values.index, indexed_values[county_b], marker='o', label=county_b)\n",
    "\n",
    "plt.title('Relative Development Indexed to 2014 Values')\n",
    "plt.xlabel('Year')\n",
    "plt.ylabel('Index (2014 = 100)')\n",
    "plt.legend()\n",
    "plt.grid(True)\n",
    "plt.show()\n"
   ]
  },
  {
   "cell_type": "markdown",
   "metadata": {},
   "source": [
    "Making a plot of the sexes across counties"
   ]
  },
  {
   "cell_type": "code",
   "execution_count": null,
   "metadata": {},
   "outputs": [],
   "source": [
    "from dataproject import calculate_geographic_shares\n",
    "\n",
    "# Assuming df is your DataFrame with football player data\n",
    "geographic_shares = calculate_geographic_shares(idrakt)\n",
    "\n",
    "import matplotlib.pyplot as plt\n",
    "\n",
    "# Creating a bar plot\n",
    "geographic_shares.plot(kind='bar', x='county', y='share')\n",
    "plt.title('Share of Football Players by Geography')\n",
    "plt.xlabel('Geography')\n",
    "plt.ylabel('Share')\n",
    "plt.show()\n"
   ]
  },
  {
   "cell_type": "markdown",
   "metadata": {},
   "source": [
    "# Conclusion"
   ]
  },
  {
   "cell_type": "markdown",
   "metadata": {},
   "source": [
    "ADD CONCISE CONLUSION."
   ]
  },
  {
   "cell_type": "markdown",
   "metadata": {},
   "source": [
    "We see that..."
   ]
  }
 ],
 "metadata": {
  "kernelspec": {
   "display_name": "base",
   "language": "python",
   "name": "python3"
  },
  "language_info": {
   "codemirror_mode": {
    "name": "ipython",
    "version": 3
   },
   "file_extension": ".py",
   "mimetype": "text/x-python",
   "name": "python",
   "nbconvert_exporter": "python",
   "pygments_lexer": "ipython3",
   "version": "3.11.8"
  },
  "toc-autonumbering": true,
  "vscode": {
   "interpreter": {
    "hash": "47ef90cdf3004d3f859f1fb202523c65c07ba7c22eefd261b181f4744e2d0403"
   }
  }
 },
 "nbformat": 4,
 "nbformat_minor": 4
}
