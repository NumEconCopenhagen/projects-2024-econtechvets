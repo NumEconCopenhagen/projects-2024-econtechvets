{
 "cells": [
  {
   "cell_type": "markdown",
   "metadata": {},
   "source": [
    "# Football in Denmark: Where are we playing?"
   ]
  },
  {
   "attachments": {},
   "cell_type": "markdown",
   "metadata": {},
   "source": [
    "> **Note the following:** \n",
    "> 1. This is *not* meant to be an example of an actual **data analysis project**, just an example of how to structure such a project.\n",
    "> 1. Remember the general advice on structuring and commenting your code\n",
    "> 1. The `dataproject.py` file includes a function which can be used multiple times in this notebook."
   ]
  },
  {
   "cell_type": "markdown",
   "metadata": {},
   "source": [
    "Imports and set magics:"
   ]
  },
  {
   "cell_type": "code",
   "execution_count": 5,
   "metadata": {},
   "outputs": [
    {
     "name": "stdout",
     "output_type": "stream",
     "text": [
      "Collecting git+https://github.com/alemartinello/dstapi\n",
      "  Cloning https://github.com/alemartinello/dstapi to /private/var/folders/z8/1crkytq93gz7b66n_5673q3r0000gn/T/pip-req-build-9i0n08i2\n",
      "  Running command git clone --filter=blob:none --quiet https://github.com/alemartinello/dstapi /private/var/folders/z8/1crkytq93gz7b66n_5673q3r0000gn/T/pip-req-build-9i0n08i2\n",
      "  Resolved https://github.com/alemartinello/dstapi to commit d9eeb5a82cbc70b7d63b2ff44d92632fd77123a4\n",
      "  Preparing metadata (setup.py) ... \u001b[?25ldone\n",
      "\u001b[?25hRequirement already satisfied: pandas in /Users/frederiknordentoft/anaconda3/lib/python3.11/site-packages (from dstapi==0.2) (2.1.4)\n",
      "Requirement already satisfied: requests in /Users/frederiknordentoft/anaconda3/lib/python3.11/site-packages (from dstapi==0.2) (2.31.0)\n",
      "Requirement already satisfied: numpy<2,>=1.23.2 in /Users/frederiknordentoft/anaconda3/lib/python3.11/site-packages (from pandas->dstapi==0.2) (1.26.4)\n",
      "Requirement already satisfied: python-dateutil>=2.8.2 in /Users/frederiknordentoft/anaconda3/lib/python3.11/site-packages (from pandas->dstapi==0.2) (2.8.2)\n",
      "Requirement already satisfied: pytz>=2020.1 in /Users/frederiknordentoft/anaconda3/lib/python3.11/site-packages (from pandas->dstapi==0.2) (2023.3.post1)\n",
      "Requirement already satisfied: tzdata>=2022.1 in /Users/frederiknordentoft/anaconda3/lib/python3.11/site-packages (from pandas->dstapi==0.2) (2023.3)\n",
      "Requirement already satisfied: charset-normalizer<4,>=2 in /Users/frederiknordentoft/anaconda3/lib/python3.11/site-packages (from requests->dstapi==0.2) (2.0.4)\n",
      "Requirement already satisfied: idna<4,>=2.5 in /Users/frederiknordentoft/anaconda3/lib/python3.11/site-packages (from requests->dstapi==0.2) (3.4)\n",
      "Requirement already satisfied: urllib3<3,>=1.21.1 in /Users/frederiknordentoft/anaconda3/lib/python3.11/site-packages (from requests->dstapi==0.2) (2.0.7)\n",
      "Requirement already satisfied: certifi>=2017.4.17 in /Users/frederiknordentoft/anaconda3/lib/python3.11/site-packages (from requests->dstapi==0.2) (2024.2.2)\n",
      "Requirement already satisfied: six>=1.5 in /Users/frederiknordentoft/anaconda3/lib/python3.11/site-packages (from python-dateutil>=2.8.2->pandas->dstapi==0.2) (1.16.0)\n",
      "Note: you may need to restart the kernel to use updated packages.\n"
     ]
    }
   ],
   "source": [
    "%pip install git+https://github.com/alemartinello/dstapi #Installing the API (only need to do once)"
   ]
  },
  {
   "cell_type": "code",
   "execution_count": null,
   "metadata": {},
   "outputs": [],
   "source": [
    "%pip install pandas-datareader # Installing the data reader (only need to do once)"
   ]
  },
  {
   "cell_type": "code",
   "execution_count": 4,
   "metadata": {},
   "outputs": [],
   "source": [
    "import pandas as pd\n",
    "import numpy as np\n",
    "import matplotlib.pyplot as plt\n",
    "plt.rcParams.update({\"axes.grid\":True,\"grid.color\":\"black\",\"grid.alpha\":\"0.25\",\"grid.linestyle\":\"--\"})\n",
    "plt.rcParams.update({'font.size': 14})\n",
    "import ipywidgets as widgets\n",
    "# from matplotlib_venn import venn2\n",
    "from dstapi import DstApi # install with `pip install git+https://github.com/alemartinello/dstapi`\n",
    "\n",
    "# autoreload modules when code is run\n",
    "%load_ext autoreload\n",
    "%autoreload 2\n",
    "\n",
    "# user written modules\n",
    "import dataproject\n"
   ]
  },
  {
   "cell_type": "markdown",
   "metadata": {},
   "source": [
    "# Read and clean data"
   ]
  },
  {
   "cell_type": "markdown",
   "metadata": {},
   "source": [
    "Import your data, either through an API or manually, and load it. "
   ]
  },
  {
   "cell_type": "code",
   "execution_count": 30,
   "metadata": {},
   "outputs": [],
   "source": [
    "columns_dict = {}\n",
    "columns_dict['BLSTKOM'] = 'county'\n",
    "columns_dict['AKTIVITET'] = 'activity'\n",
    "columns_dict['KON'] = 'sex'\n",
    "columns_dict['ALDER1'] = 'age'\n",
    "columns_dict['TID'] = 'year'\n",
    "columns_dict['INDHOLD'] = 'value'\n",
    "\n",
    "#var_dict = {} # var is for variable\n",
    "#var_dict['Football'] = 'football'"
   ]
  },
  {
   "cell_type": "markdown",
   "metadata": {},
   "source": [
    "Downloading all of the football-variables in IDRAKT01"
   ]
  },
  {
   "cell_type": "code",
   "execution_count": 47,
   "metadata": {},
   "outputs": [
    {
     "name": "stdout",
     "output_type": "stream",
     "text": [
      "[{'code': 'BLSTKOM', 'values': ['*']}, {'code': 'AKTIVITET', 'values': ['A22']}, {'code': 'KON', 'values': ['*']}, {'code': 'ALDER1', 'values': ['*']}, {'code': 'Tid', 'values': ['*']}]\n"
     ]
    }
   ],
   "source": [
    "idrakt_api = DstApi('IDRAKT01')  #Creating the DST API which will allow us to interact with the API server\n",
    "params = idrakt_api._define_base_params(language='en') #Creating a parameter dictionary with the language set to English\n",
    "variables = params['variables'] # Returns a view, that we can edit\n",
    "variables[1]['values'] = ['A22'] # Choosing football as the activity (The ID for football is A22 Using code from: https://alemartinello.com/2022/02/24/dstapi/)\n",
    "print(variables)"
   ]
  },
  {
   "cell_type": "code",
   "execution_count": 48,
   "metadata": {},
   "outputs": [],
   "source": [
    "idrakt = idrakt_api.get_data(params=params) #Downloading the dataset"
   ]
  },
  {
   "cell_type": "code",
   "execution_count": 49,
   "metadata": {},
   "outputs": [
    {
     "data": {
      "text/html": [
       "<div>\n",
       "<style scoped>\n",
       "    .dataframe tbody tr th:only-of-type {\n",
       "        vertical-align: middle;\n",
       "    }\n",
       "\n",
       "    .dataframe tbody tr th {\n",
       "        vertical-align: top;\n",
       "    }\n",
       "\n",
       "    .dataframe thead th {\n",
       "        text-align: right;\n",
       "    }\n",
       "</style>\n",
       "<table border=\"1\" class=\"dataframe\">\n",
       "  <thead>\n",
       "    <tr style=\"text-align: right;\">\n",
       "      <th></th>\n",
       "      <th>BLSTKOM</th>\n",
       "      <th>AKTIVITET</th>\n",
       "      <th>KON</th>\n",
       "      <th>ALDER1</th>\n",
       "      <th>TID</th>\n",
       "      <th>INDHOLD</th>\n",
       "    </tr>\n",
       "  </thead>\n",
       "  <tbody>\n",
       "    <tr>\n",
       "      <th>0</th>\n",
       "      <td>Herning</td>\n",
       "      <td>Football</td>\n",
       "      <td>Men</td>\n",
       "      <td>Age, total</td>\n",
       "      <td>2017</td>\n",
       "      <td>4950</td>\n",
       "    </tr>\n",
       "    <tr>\n",
       "      <th>1</th>\n",
       "      <td>Herning</td>\n",
       "      <td>Football</td>\n",
       "      <td>Men</td>\n",
       "      <td>0-12 years</td>\n",
       "      <td>2017</td>\n",
       "      <td>1850</td>\n",
       "    </tr>\n",
       "    <tr>\n",
       "      <th>2</th>\n",
       "      <td>Herning</td>\n",
       "      <td>Football</td>\n",
       "      <td>Men</td>\n",
       "      <td>13-18 years</td>\n",
       "      <td>2017</td>\n",
       "      <td>1070</td>\n",
       "    </tr>\n",
       "    <tr>\n",
       "      <th>3</th>\n",
       "      <td>Herning</td>\n",
       "      <td>Football</td>\n",
       "      <td>Men</td>\n",
       "      <td>19-24 years</td>\n",
       "      <td>2017</td>\n",
       "      <td>660</td>\n",
       "    </tr>\n",
       "    <tr>\n",
       "      <th>4</th>\n",
       "      <td>Herning</td>\n",
       "      <td>Football</td>\n",
       "      <td>Men</td>\n",
       "      <td>25-59 years</td>\n",
       "      <td>2017</td>\n",
       "      <td>1250</td>\n",
       "    </tr>\n",
       "  </tbody>\n",
       "</table>\n",
       "</div>"
      ],
      "text/plain": [
       "   BLSTKOM AKTIVITET  KON       ALDER1   TID  INDHOLD\n",
       "0  Herning  Football  Men   Age, total  2017     4950\n",
       "1  Herning  Football  Men   0-12 years  2017     1850\n",
       "2  Herning  Football  Men  13-18 years  2017     1070\n",
       "3  Herning  Football  Men  19-24 years  2017      660\n",
       "4  Herning  Football  Men  25-59 years  2017     1250"
      ]
     },
     "execution_count": 49,
     "metadata": {},
     "output_type": "execute_result"
    }
   ],
   "source": [
    "idrakt.head() #Looking at the dataset"
   ]
  },
  {
   "cell_type": "markdown",
   "metadata": {},
   "source": [
    "**Step 2:** Rename coloums using colmns_dict"
   ]
  },
  {
   "cell_type": "code",
   "execution_count": 50,
   "metadata": {},
   "outputs": [
    {
     "data": {
      "text/html": [
       "<div>\n",
       "<style scoped>\n",
       "    .dataframe tbody tr th:only-of-type {\n",
       "        vertical-align: middle;\n",
       "    }\n",
       "\n",
       "    .dataframe tbody tr th {\n",
       "        vertical-align: top;\n",
       "    }\n",
       "\n",
       "    .dataframe thead th {\n",
       "        text-align: right;\n",
       "    }\n",
       "</style>\n",
       "<table border=\"1\" class=\"dataframe\">\n",
       "  <thead>\n",
       "    <tr style=\"text-align: right;\">\n",
       "      <th></th>\n",
       "      <th>county</th>\n",
       "      <th>activity</th>\n",
       "      <th>sex</th>\n",
       "      <th>age</th>\n",
       "      <th>year</th>\n",
       "      <th>value</th>\n",
       "    </tr>\n",
       "  </thead>\n",
       "  <tbody>\n",
       "    <tr>\n",
       "      <th>0</th>\n",
       "      <td>Herning</td>\n",
       "      <td>Football</td>\n",
       "      <td>Men</td>\n",
       "      <td>Age, total</td>\n",
       "      <td>2017</td>\n",
       "      <td>4950</td>\n",
       "    </tr>\n",
       "    <tr>\n",
       "      <th>1</th>\n",
       "      <td>Herning</td>\n",
       "      <td>Football</td>\n",
       "      <td>Men</td>\n",
       "      <td>0-12 years</td>\n",
       "      <td>2017</td>\n",
       "      <td>1850</td>\n",
       "    </tr>\n",
       "    <tr>\n",
       "      <th>2</th>\n",
       "      <td>Herning</td>\n",
       "      <td>Football</td>\n",
       "      <td>Men</td>\n",
       "      <td>13-18 years</td>\n",
       "      <td>2017</td>\n",
       "      <td>1070</td>\n",
       "    </tr>\n",
       "    <tr>\n",
       "      <th>3</th>\n",
       "      <td>Herning</td>\n",
       "      <td>Football</td>\n",
       "      <td>Men</td>\n",
       "      <td>19-24 years</td>\n",
       "      <td>2017</td>\n",
       "      <td>660</td>\n",
       "    </tr>\n",
       "    <tr>\n",
       "      <th>4</th>\n",
       "      <td>Herning</td>\n",
       "      <td>Football</td>\n",
       "      <td>Men</td>\n",
       "      <td>25-59 years</td>\n",
       "      <td>2017</td>\n",
       "      <td>1250</td>\n",
       "    </tr>\n",
       "  </tbody>\n",
       "</table>\n",
       "</div>"
      ],
      "text/plain": [
       "    county  activity  sex          age  year  value\n",
       "0  Herning  Football  Men   Age, total  2017   4950\n",
       "1  Herning  Football  Men   0-12 years  2017   1850\n",
       "2  Herning  Football  Men  13-18 years  2017   1070\n",
       "3  Herning  Football  Men  19-24 years  2017    660\n",
       "4  Herning  Football  Men  25-59 years  2017   1250"
      ]
     },
     "execution_count": 50,
     "metadata": {},
     "output_type": "execute_result"
    }
   ],
   "source": [
    "idrakt.rename(columns=columns_dict,inplace=True)\n",
    "idrakt.head()"
   ]
  },
  {
   "cell_type": "markdown",
   "metadata": {},
   "source": [
    "**Step 3:** Only keep rows where the variable is in `Age, total` and afterwards deleting the coloumn."
   ]
  },
  {
   "cell_type": "code",
   "execution_count": 51,
   "metadata": {},
   "outputs": [
    {
     "data": {
      "text/html": [
       "<div>\n",
       "<style scoped>\n",
       "    .dataframe tbody tr th:only-of-type {\n",
       "        vertical-align: middle;\n",
       "    }\n",
       "\n",
       "    .dataframe tbody tr th {\n",
       "        vertical-align: top;\n",
       "    }\n",
       "\n",
       "    .dataframe thead th {\n",
       "        text-align: right;\n",
       "    }\n",
       "</style>\n",
       "<table border=\"1\" class=\"dataframe\">\n",
       "  <thead>\n",
       "    <tr style=\"text-align: right;\">\n",
       "      <th></th>\n",
       "      <th>county</th>\n",
       "      <th>activity</th>\n",
       "      <th>sex</th>\n",
       "      <th>year</th>\n",
       "      <th>value</th>\n",
       "    </tr>\n",
       "  </thead>\n",
       "  <tbody>\n",
       "    <tr>\n",
       "      <th>0</th>\n",
       "      <td>Herning</td>\n",
       "      <td>Football</td>\n",
       "      <td>Men</td>\n",
       "      <td>2017</td>\n",
       "      <td>4950</td>\n",
       "    </tr>\n",
       "    <tr>\n",
       "      <th>6</th>\n",
       "      <td>Herning</td>\n",
       "      <td>Football</td>\n",
       "      <td>Sex, total</td>\n",
       "      <td>2017</td>\n",
       "      <td>6240</td>\n",
       "    </tr>\n",
       "    <tr>\n",
       "      <th>12</th>\n",
       "      <td>Herning</td>\n",
       "      <td>Football</td>\n",
       "      <td>Women</td>\n",
       "      <td>2017</td>\n",
       "      <td>1290</td>\n",
       "    </tr>\n",
       "    <tr>\n",
       "      <th>18</th>\n",
       "      <td>Horsens</td>\n",
       "      <td>Football</td>\n",
       "      <td>Men</td>\n",
       "      <td>2017</td>\n",
       "      <td>4580</td>\n",
       "    </tr>\n",
       "    <tr>\n",
       "      <th>24</th>\n",
       "      <td>Horsens</td>\n",
       "      <td>Football</td>\n",
       "      <td>Sex, total</td>\n",
       "      <td>2017</td>\n",
       "      <td>6240</td>\n",
       "    </tr>\n",
       "  </tbody>\n",
       "</table>\n",
       "</div>"
      ],
      "text/plain": [
       "     county  activity         sex  year  value\n",
       "0   Herning  Football         Men  2017   4950\n",
       "6   Herning  Football  Sex, total  2017   6240\n",
       "12  Herning  Football       Women  2017   1290\n",
       "18  Horsens  Football         Men  2017   4580\n",
       "24  Horsens  Football  Sex, total  2017   6240"
      ]
     },
     "execution_count": 51,
     "metadata": {},
     "output_type": "execute_result"
    }
   ],
   "source": [
    "#Only keeps rows with age = 'Age, total' and afterwards deleting the age coloumn\n",
    "idrakt = idrakt[idrakt['age'] == 'Age, total']\n",
    "idrakt.drop(columns=['age'],inplace=True)\n",
    "idrakt.head()"
   ]
  },
  {
   "cell_type": "markdown",
   "metadata": {},
   "source": [
    "**Step 4:** Only keeps rows where the variable is in a region or total"
   ]
  },
  {
   "cell_type": "code",
   "execution_count": 52,
   "metadata": {},
   "outputs": [
    {
     "data": {
      "text/html": [
       "<div>\n",
       "<style scoped>\n",
       "    .dataframe tbody tr th:only-of-type {\n",
       "        vertical-align: middle;\n",
       "    }\n",
       "\n",
       "    .dataframe tbody tr th {\n",
       "        vertical-align: top;\n",
       "    }\n",
       "\n",
       "    .dataframe thead th {\n",
       "        text-align: right;\n",
       "    }\n",
       "</style>\n",
       "<table border=\"1\" class=\"dataframe\">\n",
       "  <thead>\n",
       "    <tr style=\"text-align: right;\">\n",
       "      <th></th>\n",
       "      <th>county</th>\n",
       "      <th>activity</th>\n",
       "      <th>sex</th>\n",
       "      <th>year</th>\n",
       "      <th>value</th>\n",
       "    </tr>\n",
       "  </thead>\n",
       "  <tbody>\n",
       "    <tr>\n",
       "      <th>640</th>\n",
       "      <td>All Denmark</td>\n",
       "      <td>Football</td>\n",
       "      <td>Men</td>\n",
       "      <td>2017</td>\n",
       "      <td>293990</td>\n",
       "    </tr>\n",
       "    <tr>\n",
       "      <th>646</th>\n",
       "      <td>All Denmark</td>\n",
       "      <td>Football</td>\n",
       "      <td>Sex, total</td>\n",
       "      <td>2017</td>\n",
       "      <td>358270</td>\n",
       "    </tr>\n",
       "    <tr>\n",
       "      <th>652</th>\n",
       "      <td>All Denmark</td>\n",
       "      <td>Football</td>\n",
       "      <td>Women</td>\n",
       "      <td>2017</td>\n",
       "      <td>64280</td>\n",
       "    </tr>\n",
       "    <tr>\n",
       "      <th>2088</th>\n",
       "      <td>All Denmark</td>\n",
       "      <td>Football</td>\n",
       "      <td>Men</td>\n",
       "      <td>2021</td>\n",
       "      <td>296210</td>\n",
       "    </tr>\n",
       "    <tr>\n",
       "      <th>2094</th>\n",
       "      <td>All Denmark</td>\n",
       "      <td>Football</td>\n",
       "      <td>Sex, total</td>\n",
       "      <td>2021</td>\n",
       "      <td>368060</td>\n",
       "    </tr>\n",
       "  </tbody>\n",
       "</table>\n",
       "</div>"
      ],
      "text/plain": [
       "           county  activity         sex  year   value\n",
       "640   All Denmark  Football         Men  2017  293990\n",
       "646   All Denmark  Football  Sex, total  2017  358270\n",
       "652   All Denmark  Football       Women  2017   64280\n",
       "2088  All Denmark  Football         Men  2021  296210\n",
       "2094  All Denmark  Football  Sex, total  2021  368060"
      ]
     },
     "execution_count": 52,
     "metadata": {},
     "output_type": "execute_result"
    }
   ],
   "source": [
    "# Keeping rows where 'county' starts with \"Landsdel\" or is \"All Denmark\"\n",
    "idrakt = idrakt[idrakt['county'].str.startswith('Region') | (idrakt['county'] == 'All Denmark')]\n",
    "idrakt.head()"
   ]
  },
  {
   "cell_type": "markdown",
   "metadata": {},
   "source": [
    "**Step 5:** Sort the dataset by county and year"
   ]
  },
  {
   "cell_type": "code",
   "execution_count": 53,
   "metadata": {},
   "outputs": [
    {
     "data": {
      "text/html": [
       "<div>\n",
       "<style scoped>\n",
       "    .dataframe tbody tr th:only-of-type {\n",
       "        vertical-align: middle;\n",
       "    }\n",
       "\n",
       "    .dataframe tbody tr th {\n",
       "        vertical-align: top;\n",
       "    }\n",
       "\n",
       "    .dataframe thead th {\n",
       "        text-align: right;\n",
       "    }\n",
       "</style>\n",
       "<table border=\"1\" class=\"dataframe\">\n",
       "  <thead>\n",
       "    <tr style=\"text-align: right;\">\n",
       "      <th></th>\n",
       "      <th>county</th>\n",
       "      <th>activity</th>\n",
       "      <th>sex</th>\n",
       "      <th>year</th>\n",
       "      <th>value</th>\n",
       "    </tr>\n",
       "  </thead>\n",
       "  <tbody>\n",
       "    <tr>\n",
       "      <th>0</th>\n",
       "      <td>All Denmark</td>\n",
       "      <td>Football</td>\n",
       "      <td>Men</td>\n",
       "      <td>2014</td>\n",
       "      <td>307430</td>\n",
       "    </tr>\n",
       "    <tr>\n",
       "      <th>1</th>\n",
       "      <td>All Denmark</td>\n",
       "      <td>Football</td>\n",
       "      <td>Sex, total</td>\n",
       "      <td>2014</td>\n",
       "      <td>374400</td>\n",
       "    </tr>\n",
       "    <tr>\n",
       "      <th>2</th>\n",
       "      <td>All Denmark</td>\n",
       "      <td>Football</td>\n",
       "      <td>Women</td>\n",
       "      <td>2014</td>\n",
       "      <td>66970</td>\n",
       "    </tr>\n",
       "    <tr>\n",
       "      <th>3</th>\n",
       "      <td>All Denmark</td>\n",
       "      <td>Football</td>\n",
       "      <td>Men</td>\n",
       "      <td>2015</td>\n",
       "      <td>306540</td>\n",
       "    </tr>\n",
       "    <tr>\n",
       "      <th>4</th>\n",
       "      <td>All Denmark</td>\n",
       "      <td>Football</td>\n",
       "      <td>Sex, total</td>\n",
       "      <td>2015</td>\n",
       "      <td>372640</td>\n",
       "    </tr>\n",
       "  </tbody>\n",
       "</table>\n",
       "</div>"
      ],
      "text/plain": [
       "        county  activity         sex  year   value\n",
       "0  All Denmark  Football         Men  2014  307430\n",
       "1  All Denmark  Football  Sex, total  2014  374400\n",
       "2  All Denmark  Football       Women  2014   66970\n",
       "3  All Denmark  Football         Men  2015  306540\n",
       "4  All Denmark  Football  Sex, total  2015  372640"
      ]
     },
     "execution_count": 53,
     "metadata": {},
     "output_type": "execute_result"
    }
   ],
   "source": [
    "# Sorting the dataset by county and then year\n",
    "idrakt.sort_values(by=['county','year'],inplace=True)\n",
    "idrakt.reset_index(drop=True,inplace=True)\n",
    "idrakt.head()"
   ]
  },
  {
   "cell_type": "code",
   "execution_count": 25,
   "metadata": {},
   "outputs": [
    {
     "data": {
      "text/html": [
       "<div>\n",
       "<style scoped>\n",
       "    .dataframe tbody tr th:only-of-type {\n",
       "        vertical-align: middle;\n",
       "    }\n",
       "\n",
       "    .dataframe tbody tr th {\n",
       "        vertical-align: top;\n",
       "    }\n",
       "\n",
       "    .dataframe thead th {\n",
       "        text-align: right;\n",
       "    }\n",
       "</style>\n",
       "<table border=\"1\" class=\"dataframe\">\n",
       "  <thead>\n",
       "    <tr style=\"text-align: right;\">\n",
       "      <th></th>\n",
       "      <th>activity</th>\n",
       "      <th>sex</th>\n",
       "      <th>year</th>\n",
       "      <th>value</th>\n",
       "    </tr>\n",
       "  </thead>\n",
       "  <tbody>\n",
       "    <tr>\n",
       "      <th>640</th>\n",
       "      <td>Football</td>\n",
       "      <td>Men</td>\n",
       "      <td>2017</td>\n",
       "      <td>293990</td>\n",
       "    </tr>\n",
       "    <tr>\n",
       "      <th>646</th>\n",
       "      <td>Football</td>\n",
       "      <td>Sex, total</td>\n",
       "      <td>2017</td>\n",
       "      <td>358270</td>\n",
       "    </tr>\n",
       "    <tr>\n",
       "      <th>652</th>\n",
       "      <td>Football</td>\n",
       "      <td>Women</td>\n",
       "      <td>2017</td>\n",
       "      <td>64280</td>\n",
       "    </tr>\n",
       "    <tr>\n",
       "      <th>2088</th>\n",
       "      <td>Football</td>\n",
       "      <td>Men</td>\n",
       "      <td>2021</td>\n",
       "      <td>296210</td>\n",
       "    </tr>\n",
       "    <tr>\n",
       "      <th>2094</th>\n",
       "      <td>Football</td>\n",
       "      <td>Sex, total</td>\n",
       "      <td>2021</td>\n",
       "      <td>368060</td>\n",
       "    </tr>\n",
       "  </tbody>\n",
       "</table>\n",
       "</div>"
      ],
      "text/plain": [
       "      activity         sex  year   value\n",
       "640   Football         Men  2017  293990\n",
       "646   Football  Sex, total  2017  358270\n",
       "652   Football       Women  2017   64280\n",
       "2088  Football         Men  2021  296210\n",
       "2094  Football  Sex, total  2021  368060"
      ]
     },
     "execution_count": 25,
     "metadata": {},
     "output_type": "execute_result"
    }
   ],
   "source": [
    "# Creating a copy of the dataset where we only keep the rows with the value 'All Denmark' in the 'county' column\n",
    "idrakt_all = idrakt[idrakt['county'] == 'All Denmark'].copy()\n",
    "idrakt_all.drop(columns=['county'],inplace=True)\n",
    "idrakt_all.head()"
   ]
  },
  {
   "cell_type": "code",
   "execution_count": 29,
   "metadata": {},
   "outputs": [
    {
     "data": {
      "text/html": [
       "<div>\n",
       "<style scoped>\n",
       "    .dataframe tbody tr th:only-of-type {\n",
       "        vertical-align: middle;\n",
       "    }\n",
       "\n",
       "    .dataframe tbody tr th {\n",
       "        vertical-align: top;\n",
       "    }\n",
       "\n",
       "    .dataframe thead th {\n",
       "        text-align: right;\n",
       "    }\n",
       "</style>\n",
       "<table border=\"1\" class=\"dataframe\">\n",
       "  <thead>\n",
       "    <tr style=\"text-align: right;\">\n",
       "      <th></th>\n",
       "      <th>activity</th>\n",
       "      <th>sex</th>\n",
       "      <th>year</th>\n",
       "      <th>value</th>\n",
       "    </tr>\n",
       "  </thead>\n",
       "  <tbody>\n",
       "    <tr>\n",
       "      <th>10104</th>\n",
       "      <td>Football</td>\n",
       "      <td>Sex, total</td>\n",
       "      <td>2014</td>\n",
       "      <td>374400</td>\n",
       "    </tr>\n",
       "    <tr>\n",
       "      <th>10098</th>\n",
       "      <td>Football</td>\n",
       "      <td>Men</td>\n",
       "      <td>2014</td>\n",
       "      <td>307430</td>\n",
       "    </tr>\n",
       "    <tr>\n",
       "      <th>10110</th>\n",
       "      <td>Football</td>\n",
       "      <td>Women</td>\n",
       "      <td>2014</td>\n",
       "      <td>66970</td>\n",
       "    </tr>\n",
       "    <tr>\n",
       "      <th>13590</th>\n",
       "      <td>Football</td>\n",
       "      <td>Men</td>\n",
       "      <td>2015</td>\n",
       "      <td>306540</td>\n",
       "    </tr>\n",
       "    <tr>\n",
       "      <th>13596</th>\n",
       "      <td>Football</td>\n",
       "      <td>Sex, total</td>\n",
       "      <td>2015</td>\n",
       "      <td>372640</td>\n",
       "    </tr>\n",
       "  </tbody>\n",
       "</table>\n",
       "</div>"
      ],
      "text/plain": [
       "       activity         sex  year   value\n",
       "10104  Football  Sex, total  2014  374400\n",
       "10098  Football         Men  2014  307430\n",
       "10110  Football       Women  2014   66970\n",
       "13590  Football         Men  2015  306540\n",
       "13596  Football  Sex, total  2015  372640"
      ]
     },
     "execution_count": 29,
     "metadata": {},
     "output_type": "execute_result"
    }
   ],
   "source": [
    "#Sorting the total dataset by year\n",
    "idrakt_all.sort_values(by='year',inplace=True)\n",
    "idrakt_all.head()"
   ]
  },
  {
   "cell_type": "markdown",
   "metadata": {},
   "source": [
    "## Explore each data set"
   ]
  },
  {
   "cell_type": "markdown",
   "metadata": {},
   "source": [
    "In order to be able to **explore the raw data**, you may provide **static** and **interactive plots** to show important developments "
   ]
  },
  {
   "cell_type": "markdown",
   "metadata": {},
   "source": [
    "**Interactive plot** :"
   ]
  },
  {
   "cell_type": "markdown",
   "metadata": {},
   "source": [
    "Explain what you see when moving elements of the interactive plot around. "
   ]
  },
  {
   "cell_type": "markdown",
   "metadata": {},
   "source": [
    "# Analysis"
   ]
  },
  {
   "cell_type": "markdown",
   "metadata": {},
   "source": [
    "To get a quick overview of the data, we show some **summary statistics** on a meaningful aggregation. "
   ]
  },
  {
   "cell_type": "markdown",
   "metadata": {},
   "source": [
    "MAKE FURTHER ANALYSIS. EXPLAIN THE CODE BRIEFLY AND SUMMARIZE THE RESULTS."
   ]
  },
  {
   "cell_type": "markdown",
   "metadata": {},
   "source": [
    "# Conclusion"
   ]
  },
  {
   "cell_type": "markdown",
   "metadata": {},
   "source": [
    "ADD CONCISE CONLUSION."
   ]
  }
 ],
 "metadata": {
  "kernelspec": {
   "display_name": "base",
   "language": "python",
   "name": "python3"
  },
  "language_info": {
   "codemirror_mode": {
    "name": "ipython",
    "version": 3
   },
   "file_extension": ".py",
   "mimetype": "text/x-python",
   "name": "python",
   "nbconvert_exporter": "python",
   "pygments_lexer": "ipython3",
   "version": "3.11.8"
  },
  "toc-autonumbering": true,
  "vscode": {
   "interpreter": {
    "hash": "47ef90cdf3004d3f859f1fb202523c65c07ba7c22eefd261b181f4744e2d0403"
   }
  }
 },
 "nbformat": 4,
 "nbformat_minor": 4
}
