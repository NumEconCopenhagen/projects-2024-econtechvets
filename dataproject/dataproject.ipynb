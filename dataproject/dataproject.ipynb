{
 "cells": [
  {
   "cell_type": "markdown",
   "metadata": {},
   "source": [
    "# Football in Denmark: Where are we playing?"
   ]
  },
  {
   "cell_type": "markdown",
   "metadata": {},
   "source": [
    "Imports and set magics:"
   ]
  },
  {
   "cell_type": "code",
   "execution_count": 1,
   "metadata": {},
   "outputs": [],
   "source": [
    "# %pip install git+https://github.com/alemartinello/dstapi #Installing the API (only need to do once)"
   ]
  },
  {
   "cell_type": "code",
   "execution_count": 2,
   "metadata": {},
   "outputs": [],
   "source": [
    "# %pip install pandas-datareader # Installing the data reader (only need to do once)"
   ]
  },
  {
   "cell_type": "code",
   "execution_count": 3,
   "metadata": {},
   "outputs": [],
   "source": [
    "# %pip install geopandas \n",
    "# Installing the geopandas reader (only need to do once)"
   ]
  },
  {
   "cell_type": "code",
   "execution_count": 4,
   "metadata": {},
   "outputs": [],
   "source": [
    "import pandas as pd\n",
    "from IPython.display import Image\n",
    "import numpy as np\n",
    "from matplotlib.ticker import FuncFormatter\n",
    "import geopandas as gpd\n",
    "import matplotlib.pyplot as plt\n",
    "plt.rcParams.update({\"axes.grid\":True,\"grid.color\":\"black\",\"grid.alpha\":\"0.25\",\"grid.linestyle\":\"--\"})\n",
    "plt.rcParams.update({'font.size': 14})\n",
    "import ipywidgets as widgets\n",
    "# from matplotlib_venn import venn2\n",
    "from dstapi import DstApi # install with `pip install git+https://github.com/alemartinello/dstapi`\n",
    "\n",
    "# autoreload modules when code is run\n",
    "%load_ext autoreload\n",
    "%autoreload 2\n",
    "\n",
    "# user written modules\n",
    "import dataproject\n"
   ]
  },
  {
   "cell_type": "markdown",
   "metadata": {},
   "source": [
    "# Read data"
   ]
  },
  {
   "cell_type": "markdown",
   "metadata": {},
   "source": [
    "Creating a dictionary for the columns names:"
   ]
  },
  {
   "cell_type": "code",
   "execution_count": 19,
   "metadata": {},
   "outputs": [],
   "source": [
    "columns_dict = {}\n",
    "columns_dict['BLSTKOM'] = 'region'\n",
    "columns_dict['AKTIVITET'] = 'activity'\n",
    "columns_dict['KON'] = 'sex'\n",
    "columns_dict['ALDER1'] = 'age'\n",
    "columns_dict['TID'] = 'year'\n",
    "columns_dict['POP'] = 'population'\n",
    "columns_dict['INDHOLD'] = 'players'"
   ]
  },
  {
   "cell_type": "markdown",
   "metadata": {},
   "source": [
    "**Step 1:** Downloading all of the football-variables in merged_df01"
   ]
  },
  {
   "cell_type": "code",
   "execution_count": 6,
   "metadata": {},
   "outputs": [
    {
     "name": "stdout",
     "output_type": "stream",
     "text": [
      "[{'code': 'BLSTKOM', 'values': ['*']}, {'code': 'AKTIVITET', 'values': ['A22']}, {'code': 'KON', 'values': ['*']}, {'code': 'ALDER1', 'values': ['*']}, {'code': 'Tid', 'values': ['*']}]\n"
     ]
    }
   ],
   "source": [
    "idrakt_api = DstApi('IDRAKT01')  #Creating the DST API which will allow us to interact with the API server\n",
    "params = idrakt_api._define_base_params(language='en') #Creating a parameter dictionary with the language set to English\n",
    "variables = params['variables'] # Returns a view, that we can edit\n",
    "variables[1]['values'] = ['A22'] # Choosing football as the activity (The ID for football is A22 Using code from: https://alemartinello.com/2022/02/24/dstapi/)\n",
    "print(variables)"
   ]
  },
  {
   "cell_type": "code",
   "execution_count": 7,
   "metadata": {},
   "outputs": [],
   "source": [
    "idrakt = idrakt_api.get_data(params=params) #Downloading the dataset"
   ]
  },
  {
   "cell_type": "markdown",
   "metadata": {},
   "source": [
    "**Step 1A** Henter Befolkningsdata fra FOLK1AM"
   ]
  },
  {
   "cell_type": "code",
   "execution_count": 8,
   "metadata": {},
   "outputs": [
    {
     "name": "stdout",
     "output_type": "stream",
     "text": [
      "[{'code': 'OMRÅDE', 'values': ['*']}, {'code': 'KØN', 'values': ['*']}, {'code': 'ALDER', 'values': ['IALT']}, {'code': 'CIVILSTAND', 'values': ['TOT']}, {'code': 'Tid', 'values': ['*']}]\n"
     ]
    }
   ],
   "source": [
    "folk_api = DstApi('FOLK1A')  #Creating the DST API which will allow us to interact with the API server\n",
    "params = folk_api._define_base_params(language='en') #Creating a parameter dictionary with the language set to English\n",
    "variables = params['variables'] # Returns a view, that we can edit\n",
    "variables[2]['values'] = ['IALT']\n",
    "variables[3]['values'] = ['TOT']\n",
    "print(variables)"
   ]
  },
  {
   "cell_type": "code",
   "execution_count": 9,
   "metadata": {},
   "outputs": [],
   "source": [
    "folk = folk_api.get_data(params=params) #Downloading the dataset"
   ]
  },
  {
   "cell_type": "markdown",
   "metadata": {},
   "source": [
    "# Clean data"
   ]
  },
  {
   "cell_type": "markdown",
   "metadata": {},
   "source": [
    "**Cleaning population data (FOLK1A)**"
   ]
  },
  {
   "cell_type": "code",
   "execution_count": 10,
   "metadata": {},
   "outputs": [],
   "source": [
    "folk.drop(columns=['ALDER', 'CIVILSTAND'], inplace=True)"
   ]
  },
  {
   "cell_type": "code",
   "execution_count": 11,
   "metadata": {},
   "outputs": [
    {
     "name": "stderr",
     "output_type": "stream",
     "text": [
      "C:\\Users\\rasmu\\AppData\\Local\\Temp\\ipykernel_17520\\3082106661.py:2: SettingWithCopyWarning: \n",
      "A value is trying to be set on a copy of a slice from a DataFrame.\n",
      "Try using .loc[row_indexer,col_indexer] = value instead\n",
      "\n",
      "See the caveats in the documentation: https://pandas.pydata.org/pandas-docs/stable/user_guide/indexing.html#returning-a-view-versus-a-copy\n",
      "  folk_q1['TID'] = folk_q1['TID'].str.replace('Q1', '')\n",
      "C:\\Users\\rasmu\\AppData\\Local\\Temp\\ipykernel_17520\\3082106661.py:3: SettingWithCopyWarning: \n",
      "A value is trying to be set on a copy of a slice from a DataFrame.\n",
      "Try using .loc[row_indexer,col_indexer] = value instead\n",
      "\n",
      "See the caveats in the documentation: https://pandas.pydata.org/pandas-docs/stable/user_guide/indexing.html#returning-a-view-versus-a-copy\n",
      "  folk_q1['KØN'] = folk_q1['KØN'].str.replace('Total', 'Sex, total')\n",
      "C:\\Users\\rasmu\\AppData\\Local\\Temp\\ipykernel_17520\\3082106661.py:4: SettingWithCopyWarning: \n",
      "A value is trying to be set on a copy of a slice from a DataFrame.\n",
      "Try using .loc[row_indexer,col_indexer] = value instead\n",
      "\n",
      "See the caveats in the documentation: https://pandas.pydata.org/pandas-docs/stable/user_guide/indexing.html#returning-a-view-versus-a-copy\n",
      "  folk_q1['OMRÅDE'] = folk_q1['OMRÅDE'].str.replace('Landsdel', 'Province')\n"
     ]
    },
    {
     "data": {
      "text/html": [
       "<div>\n",
       "<style scoped>\n",
       "    .dataframe tbody tr th:only-of-type {\n",
       "        vertical-align: middle;\n",
       "    }\n",
       "\n",
       "    .dataframe tbody tr th {\n",
       "        vertical-align: top;\n",
       "    }\n",
       "\n",
       "    .dataframe thead th {\n",
       "        text-align: right;\n",
       "    }\n",
       "</style>\n",
       "<table border=\"1\" class=\"dataframe\">\n",
       "  <thead>\n",
       "    <tr style=\"text-align: right;\">\n",
       "      <th></th>\n",
       "      <th>OMRÅDE</th>\n",
       "      <th>KØN</th>\n",
       "      <th>TID</th>\n",
       "      <th>INDHOLD</th>\n",
       "    </tr>\n",
       "  </thead>\n",
       "  <tbody>\n",
       "    <tr>\n",
       "      <th>50</th>\n",
       "      <td>Region Sjælland</td>\n",
       "      <td>Men</td>\n",
       "      <td>2009</td>\n",
       "      <td>407228</td>\n",
       "    </tr>\n",
       "    <tr>\n",
       "      <th>56</th>\n",
       "      <td>Region Sjælland</td>\n",
       "      <td>Sex, total</td>\n",
       "      <td>2009</td>\n",
       "      <td>821252</td>\n",
       "    </tr>\n",
       "    <tr>\n",
       "      <th>61</th>\n",
       "      <td>Region Sjælland</td>\n",
       "      <td>Women</td>\n",
       "      <td>2009</td>\n",
       "      <td>414024</td>\n",
       "    </tr>\n",
       "    <tr>\n",
       "      <th>262</th>\n",
       "      <td>Region Syddanmark</td>\n",
       "      <td>Sex, total</td>\n",
       "      <td>2009</td>\n",
       "      <td>1199667</td>\n",
       "    </tr>\n",
       "    <tr>\n",
       "      <th>263</th>\n",
       "      <td>Region Syddanmark</td>\n",
       "      <td>Men</td>\n",
       "      <td>2009</td>\n",
       "      <td>597320</td>\n",
       "    </tr>\n",
       "  </tbody>\n",
       "</table>\n",
       "</div>"
      ],
      "text/plain": [
       "                OMRÅDE         KØN   TID  INDHOLD\n",
       "50     Region Sjælland         Men  2009   407228\n",
       "56     Region Sjælland  Sex, total  2009   821252\n",
       "61     Region Sjælland       Women  2009   414024\n",
       "262  Region Syddanmark  Sex, total  2009  1199667\n",
       "263  Region Syddanmark         Men  2009   597320"
      ]
     },
     "execution_count": 11,
     "metadata": {},
     "output_type": "execute_result"
    }
   ],
   "source": [
    "folk_q1 = folk.loc[folk['TID'].str.contains('Q1')] # Selecting only the first quarter of the year\n",
    "folk_q1['TID'] = folk_q1['TID'].str.replace('Q1', '')\n",
    "folk_q1['KØN'] = folk_q1['KØN'].str.replace('Total', 'Sex, total')\n",
    "folk_q1['OMRÅDE'] = folk_q1['OMRÅDE'].str.replace('Landsdel', 'Province')\n",
    "\n",
    "# Define a list of the regions in the dataset\n",
    "regions = ['All Denmark', 'Region Nordjylland', 'Region Midtjylland', 'Region Syddanmark', 'Region Sjælland', 'Region Hovedstaden']\n",
    "\n",
    "# Filter the DataFrame to keep only rows where 'OMRÅDE' matches one of the regions\n",
    "folk_q1 = folk_q1[folk_q1['OMRÅDE'].isin(regions)]\n",
    "folk_q1.head()"
   ]
  },
  {
   "cell_type": "markdown",
   "metadata": {},
   "source": [
    "**Cleaning football data (IDRAKT01)**"
   ]
  },
  {
   "cell_type": "markdown",
   "metadata": {},
   "source": [
    "**Step 2:** Only keep rows where the variable is in `Age, total` and afterwards deleting the coloumn."
   ]
  },
  {
   "cell_type": "code",
   "execution_count": 12,
   "metadata": {},
   "outputs": [],
   "source": [
    "#Only keeps rows with age = 'Age, total' and afterwards deleting the age coloumn\n",
    "idrakt = idrakt[idrakt['ALDER1'] == 'Age, total']\n",
    "idrakt.drop(columns=['ALDER1'],inplace=True)"
   ]
  },
  {
   "cell_type": "code",
   "execution_count": 13,
   "metadata": {},
   "outputs": [
    {
     "name": "stdout",
     "output_type": "stream",
     "text": [
      "['Herning' 'Horsens' 'Hillerød' 'Holstebro' 'Lemvig' 'Vordingborg'\n",
      " 'Odense' 'Kolding' 'Province Nordjylland' 'Vejle' 'Ballerup'\n",
      " 'Høje-Taastrup' 'Lyngby-Taarbæk' 'Solrød' 'Province Byen København'\n",
      " 'Province Bornholm' 'Roskilde' 'Slagelse' 'Sønderborg' 'Fredericia'\n",
      " 'Province Københavns omegn' 'Province Nordsjælland'\n",
      " 'Province Østsjælland' 'Svendborg' 'Esbjerg' 'Norddjurs' 'Hedensted'\n",
      " 'Province Sydjylland' 'Brønderslev' 'Hjørring' 'Herlev' 'Hørsholm'\n",
      " 'All Denmark' 'Province Østjylland' 'Stevns' 'Bornholm' 'Silkeborg'\n",
      " 'Ikast-Brande' 'Rødovre' 'Rudersdal' 'Brøndby' 'Gribskov' 'Lolland'\n",
      " 'Morsø' 'Favrskov' 'Frederiksberg' 'Albertslund' 'Lejre'\n",
      " 'Ringkøbing-Skjern' 'Frederikshavn' 'Not stated' 'Sorø' 'Dragør' 'Tønder'\n",
      " 'Middelfart' 'Nordfyns' 'Ishøj' 'Province Vestjylland' 'Gentofte' 'Fanø'\n",
      " 'Odder' 'Egedal' 'Odsherred' 'Struer' 'Samsø' 'Tårnby' 'Skive' 'Gladsaxe'\n",
      " 'Varde' 'Vallensbæk' 'Holbæk' 'Province Vest- og Sydsjælland'\n",
      " 'Vesthimmerlands' 'Copenhagen' 'Frederikssund' 'Skanderborg' 'Glostrup'\n",
      " 'Assens' 'Langeland' 'Hvidovre' 'Furesø' 'Næstved' 'Randers' 'Greve'\n",
      " 'Syddjurs' 'Faxe' 'Province Fyn' 'Allerød' 'Ærø' 'Vejen' 'Fredensborg'\n",
      " 'Køge' 'Læsø' 'Kalundborg' 'Guldborgsund' 'Faaborg-Midtfyn' 'Helsingør'\n",
      " 'Halsnæs' 'Haderslev' 'Aarhus' 'Ringsted' 'Rebild' 'Mariagerfjord'\n",
      " 'Aabenraa' 'Jammerbugt' 'Thisted' 'Viborg' 'Aalborg' 'Kerteminde'\n",
      " 'Billund' 'Nyborg']\n"
     ]
    }
   ],
   "source": [
    "unique_values = idrakt['BLSTKOM'].unique()\n",
    "print(unique_values)"
   ]
  },
  {
   "cell_type": "markdown",
   "metadata": {},
   "source": [
    "Summarizing provinces to regions:"
   ]
  },
  {
   "cell_type": "code",
   "execution_count": 14,
   "metadata": {},
   "outputs": [],
   "source": [
    "def map_regions(BLSTKOM):\n",
    "    if BLSTKOM == 'All Denmark':\n",
    "        return 'All Denmark'\n",
    "    elif BLSTKOM == 'Province Nordjylland':\n",
    "        return 'Region Nordjylland'\n",
    "    elif BLSTKOM in ['Province Vestjylland', 'Province Østjylland']:\n",
    "        return 'Region Midtjylland'\n",
    "    elif BLSTKOM in ['Province Fyn', 'Province Sydjylland']:\n",
    "        return 'Region Syddanmark'\n",
    "    elif BLSTKOM in ['Province Østsjælland', 'Province Vest- og Sydsjælland']:\n",
    "        return 'Region Sjælland'\n",
    "    elif BLSTKOM in ['Province Bornholm', 'Province Byen København', 'Province København omegn', 'Province Nordsjælland']:\n",
    "        return 'Region Hovedstaden'\n",
    "    else:\n",
    "        return BLSTKOM  # Keep the original value for non-province entries\n",
    "\n",
    "# Apply the function and update the 'BLSTKOM' column in place\n",
    "idrakt['BLSTKOM'] = idrakt['BLSTKOM'].apply(map_regions)"
   ]
  },
  {
   "cell_type": "markdown",
   "metadata": {},
   "source": [
    "Only keeping regions and all of Denmark"
   ]
  },
  {
   "cell_type": "code",
   "execution_count": 15,
   "metadata": {},
   "outputs": [
    {
     "data": {
      "text/html": [
       "<div>\n",
       "<style scoped>\n",
       "    .dataframe tbody tr th:only-of-type {\n",
       "        vertical-align: middle;\n",
       "    }\n",
       "\n",
       "    .dataframe tbody tr th {\n",
       "        vertical-align: top;\n",
       "    }\n",
       "\n",
       "    .dataframe thead th {\n",
       "        text-align: right;\n",
       "    }\n",
       "</style>\n",
       "<table border=\"1\" class=\"dataframe\">\n",
       "  <thead>\n",
       "    <tr style=\"text-align: right;\">\n",
       "      <th></th>\n",
       "      <th>BLSTKOM</th>\n",
       "      <th>AKTIVITET</th>\n",
       "      <th>KON</th>\n",
       "      <th>TID</th>\n",
       "      <th>INDHOLD</th>\n",
       "    </tr>\n",
       "  </thead>\n",
       "  <tbody>\n",
       "    <tr>\n",
       "      <th>180</th>\n",
       "      <td>Region Nordjylland</td>\n",
       "      <td>Football</td>\n",
       "      <td>Men</td>\n",
       "      <td>2019</td>\n",
       "      <td>30800</td>\n",
       "    </tr>\n",
       "    <tr>\n",
       "      <th>186</th>\n",
       "      <td>Region Nordjylland</td>\n",
       "      <td>Football</td>\n",
       "      <td>Sex, total</td>\n",
       "      <td>2019</td>\n",
       "      <td>40140</td>\n",
       "    </tr>\n",
       "    <tr>\n",
       "      <th>192</th>\n",
       "      <td>Region Nordjylland</td>\n",
       "      <td>Football</td>\n",
       "      <td>Women</td>\n",
       "      <td>2019</td>\n",
       "      <td>9340</td>\n",
       "    </tr>\n",
       "    <tr>\n",
       "      <th>288</th>\n",
       "      <td>Region Hovedstaden</td>\n",
       "      <td>Football</td>\n",
       "      <td>Men</td>\n",
       "      <td>2017</td>\n",
       "      <td>43840</td>\n",
       "    </tr>\n",
       "    <tr>\n",
       "      <th>294</th>\n",
       "      <td>Region Hovedstaden</td>\n",
       "      <td>Football</td>\n",
       "      <td>Sex, total</td>\n",
       "      <td>2017</td>\n",
       "      <td>49680</td>\n",
       "    </tr>\n",
       "  </tbody>\n",
       "</table>\n",
       "</div>"
      ],
      "text/plain": [
       "                BLSTKOM AKTIVITET         KON   TID  INDHOLD\n",
       "180  Region Nordjylland  Football         Men  2019    30800\n",
       "186  Region Nordjylland  Football  Sex, total  2019    40140\n",
       "192  Region Nordjylland  Football       Women  2019     9340\n",
       "288  Region Hovedstaden  Football         Men  2017    43840\n",
       "294  Region Hovedstaden  Football  Sex, total  2017    49680"
      ]
     },
     "execution_count": 15,
     "metadata": {},
     "output_type": "execute_result"
    }
   ],
   "source": [
    "# Filter the DataFrame to keep only rows where 'BLSTKOM' matches one of the regions\n",
    "idrakt = idrakt[idrakt['BLSTKOM'].isin(regions)]\n",
    "\n",
    "# Display the first few rows to verify the filtering\n",
    "idrakt.head()"
   ]
  },
  {
   "cell_type": "markdown",
   "metadata": {},
   "source": [
    "## Merging the two datasets and the sorting:"
   ]
  },
  {
   "cell_type": "code",
   "execution_count": 22,
   "metadata": {},
   "outputs": [
    {
     "data": {
      "text/html": [
       "<div>\n",
       "<style scoped>\n",
       "    .dataframe tbody tr th:only-of-type {\n",
       "        vertical-align: middle;\n",
       "    }\n",
       "\n",
       "    .dataframe tbody tr th {\n",
       "        vertical-align: top;\n",
       "    }\n",
       "\n",
       "    .dataframe thead th {\n",
       "        text-align: right;\n",
       "    }\n",
       "</style>\n",
       "<table border=\"1\" class=\"dataframe\">\n",
       "  <thead>\n",
       "    <tr style=\"text-align: right;\">\n",
       "      <th></th>\n",
       "      <th>region</th>\n",
       "      <th>activity</th>\n",
       "      <th>sex</th>\n",
       "      <th>year</th>\n",
       "      <th>players</th>\n",
       "      <th>population</th>\n",
       "    </tr>\n",
       "  </thead>\n",
       "  <tbody>\n",
       "    <tr>\n",
       "      <th>0</th>\n",
       "      <td>Region Nordjylland</td>\n",
       "      <td>Football</td>\n",
       "      <td>Men</td>\n",
       "      <td>2019</td>\n",
       "      <td>30800</td>\n",
       "      <td>297879</td>\n",
       "    </tr>\n",
       "    <tr>\n",
       "      <th>1</th>\n",
       "      <td>Region Nordjylland</td>\n",
       "      <td>Football</td>\n",
       "      <td>Sex, total</td>\n",
       "      <td>2019</td>\n",
       "      <td>40140</td>\n",
       "      <td>589755</td>\n",
       "    </tr>\n",
       "    <tr>\n",
       "      <th>2</th>\n",
       "      <td>Region Nordjylland</td>\n",
       "      <td>Football</td>\n",
       "      <td>Women</td>\n",
       "      <td>2019</td>\n",
       "      <td>9340</td>\n",
       "      <td>291876</td>\n",
       "    </tr>\n",
       "    <tr>\n",
       "      <th>3</th>\n",
       "      <td>Region Hovedstaden</td>\n",
       "      <td>Football</td>\n",
       "      <td>Men</td>\n",
       "      <td>2017</td>\n",
       "      <td>43840</td>\n",
       "      <td>887224</td>\n",
       "    </tr>\n",
       "    <tr>\n",
       "      <th>4</th>\n",
       "      <td>Region Hovedstaden</td>\n",
       "      <td>Football</td>\n",
       "      <td>Sex, total</td>\n",
       "      <td>2017</td>\n",
       "      <td>49680</td>\n",
       "      <td>1807404</td>\n",
       "    </tr>\n",
       "  </tbody>\n",
       "</table>\n",
       "</div>"
      ],
      "text/plain": [
       "               region  activity         sex  year  players  population\n",
       "0  Region Nordjylland  Football         Men  2019    30800      297879\n",
       "1  Region Nordjylland  Football  Sex, total  2019    40140      589755\n",
       "2  Region Nordjylland  Football       Women  2019     9340      291876\n",
       "3  Region Hovedstaden  Football         Men  2017    43840      887224\n",
       "4  Region Hovedstaden  Football  Sex, total  2017    49680     1807404"
      ]
     },
     "execution_count": 22,
     "metadata": {},
     "output_type": "execute_result"
    }
   ],
   "source": [
    "idrakt['TID'] = idrakt['TID'].astype(str)\n",
    "folk_q1['TID'] = folk_q1['TID'].astype(str)\n",
    "\n",
    "merged_df = pd.merge(\n",
    "    idrakt,\n",
    "    folk_q1.rename(columns={'INDHOLD': 'POP'}),  # Rename INDHOLD to POP in folk_q1 before merging\n",
    "    how='left',  # Keep all rows from idrakt\n",
    "    left_on=['BLSTKOM', 'KON', 'TID'],  # Columns to match in idrakt\n",
    "    right_on=['OMRÅDE', 'KØN', 'TID']  # Corresponding columns to match in folk_q1\n",
    ")\n",
    "merged_df.drop(['OMRÅDE', 'KØN'], axis=1, inplace=True) #Drops unnessecary columns\n",
    "\n",
    "# rename columns\n",
    "merged_df.rename(columns=columns_dict,inplace=True)\n",
    "\n",
    "# Display the first few rows to verify the merge\n",
    "merged_df.head()"
   ]
  },
  {
   "cell_type": "markdown",
   "metadata": {},
   "source": [
    "Sort the dataset by county, year and sex"
   ]
  },
  {
   "cell_type": "code",
   "execution_count": 29,
   "metadata": {},
   "outputs": [
    {
     "data": {
      "text/html": [
       "<div>\n",
       "<style scoped>\n",
       "    .dataframe tbody tr th:only-of-type {\n",
       "        vertical-align: middle;\n",
       "    }\n",
       "\n",
       "    .dataframe tbody tr th {\n",
       "        vertical-align: top;\n",
       "    }\n",
       "\n",
       "    .dataframe thead th {\n",
       "        text-align: right;\n",
       "    }\n",
       "</style>\n",
       "<table border=\"1\" class=\"dataframe\">\n",
       "  <thead>\n",
       "    <tr style=\"text-align: right;\">\n",
       "      <th></th>\n",
       "      <th>region</th>\n",
       "      <th>activity</th>\n",
       "      <th>sex</th>\n",
       "      <th>year</th>\n",
       "      <th>players</th>\n",
       "      <th>population</th>\n",
       "    </tr>\n",
       "  </thead>\n",
       "  <tbody>\n",
       "    <tr>\n",
       "      <th>0</th>\n",
       "      <td>All Denmark</td>\n",
       "      <td>Football</td>\n",
       "      <td>Sex, total</td>\n",
       "      <td>2014</td>\n",
       "      <td>374400</td>\n",
       "      <td>5627235</td>\n",
       "    </tr>\n",
       "    <tr>\n",
       "      <th>1</th>\n",
       "      <td>All Denmark</td>\n",
       "      <td>Football</td>\n",
       "      <td>Men</td>\n",
       "      <td>2014</td>\n",
       "      <td>307430</td>\n",
       "      <td>2792279</td>\n",
       "    </tr>\n",
       "    <tr>\n",
       "      <th>2</th>\n",
       "      <td>All Denmark</td>\n",
       "      <td>Football</td>\n",
       "      <td>Women</td>\n",
       "      <td>2014</td>\n",
       "      <td>66970</td>\n",
       "      <td>2834956</td>\n",
       "    </tr>\n",
       "    <tr>\n",
       "      <th>3</th>\n",
       "      <td>All Denmark</td>\n",
       "      <td>Football</td>\n",
       "      <td>Sex, total</td>\n",
       "      <td>2015</td>\n",
       "      <td>372640</td>\n",
       "      <td>5659715</td>\n",
       "    </tr>\n",
       "    <tr>\n",
       "      <th>4</th>\n",
       "      <td>All Denmark</td>\n",
       "      <td>Football</td>\n",
       "      <td>Men</td>\n",
       "      <td>2015</td>\n",
       "      <td>306540</td>\n",
       "      <td>2811014</td>\n",
       "    </tr>\n",
       "  </tbody>\n",
       "</table>\n",
       "</div>"
      ],
      "text/plain": [
       "        region  activity         sex  year  players  population\n",
       "0  All Denmark  Football  Sex, total  2014   374400     5627235\n",
       "1  All Denmark  Football         Men  2014   307430     2792279\n",
       "2  All Denmark  Football       Women  2014    66970     2834956\n",
       "3  All Denmark  Football  Sex, total  2015   372640     5659715\n",
       "4  All Denmark  Football         Men  2015   306540     2811014"
      ]
     },
     "execution_count": 29,
     "metadata": {},
     "output_type": "execute_result"
    }
   ],
   "source": [
    "# Sorting the dataset by county then year and then total sex, but first we customly sort the order of Sex\n",
    "# Define a custom sorting order\n",
    "sort_order = ['Sex, total', 'Men', 'Women']\n",
    "\n",
    "# Create a categorical type with the custom order\n",
    "merged_df['sex'] = pd.Categorical(merged_df['sex'], categories=sort_order, ordered=True)\n",
    "\n",
    "merged_df.sort_values(by=['region','year','sex'],inplace=True)\n",
    "merged_df.reset_index(drop=True,inplace=True)\n",
    "merged_df.head()"
   ]
  },
  {
   "cell_type": "markdown",
   "metadata": {},
   "source": [
    "# Analysis across genders"
   ]
  },
  {
   "cell_type": "code",
   "execution_count": 41,
   "metadata": {},
   "outputs": [
    {
     "data": {
      "image/png": "[encoded data removed]",
      "text/plain": [
       "<IPython.core.display.Image object>"
      ]
     },
     "execution_count": 41,
     "metadata": {},
     "output_type": "execute_result"
    }
   ],
   "source": [
    "from dataproject import total_players_dk\n",
    "total_players_dk(merged_df)\n",
    "# Display the saved plot in the notebook\n",
    "Image(filename='stacked_bar_chart.png')"
   ]
  },
  {
   "cell_type": "markdown",
   "metadata": {},
   "source": [
    "Here we calculate the total number of Danish football players split based on sex. "
   ]
  },
  {
   "cell_type": "code",
   "execution_count": 28,
   "metadata": {},
   "outputs": [
    {
     "name": "stderr",
     "output_type": "stream",
     "text": [
      "C:\\Users\\rasmu\\AppData\\Local\\Temp\\ipykernel_17520\\2550836803.py:5: FutureWarning: The default of observed=False is deprecated and will be changed to True in a future version of pandas. Pass observed=False to retain current behavior or observed=True to adopt the future default and silence this warning.\n",
      "  grouped_idrakt_stackedbar = idrakt_stackedbar.groupby(['year', 'sex'])['players'].sum().unstack()\n"
     ]
    },
    {
     "data": {
      "image/png": "[encoded data removed]",
      "text/plain": [
       "<Figure size 1000x600 with 1 Axes>"
      ]
     },
     "metadata": {},
     "output_type": "display_data"
    }
   ],
   "source": [
    "# Filtering out 'Sex, total' from the dataset\n",
    "idrakt_stackedbar = merged_df[merged_df['sex'] != 'Sex, total']\n",
    "\n",
    "# Grouping by 'year' and 'sex', then summing the values\n",
    "grouped_idrakt_stackedbar = idrakt_stackedbar.groupby(['year', 'sex'])['players'].sum().unstack()\n",
    "\n",
    "# Plotting the stacked bar chart\n",
    "grouped_idrakt_stackedbar.plot(kind='bar', stacked=True, figsize=(10, 6))\n",
    "plt.title('Yearly Values Summed by Sex (Excluding Total)')\n",
    "plt.xlabel('Year')\n",
    "plt.ylabel('# of Danish Football Players')\n",
    "plt.legend(labels=['Women', 'Men'], title='Sex')\n",
    "plt.tight_layout()\n",
    "plt.show()"
   ]
  },
  {
   "cell_type": "markdown",
   "metadata": {},
   "source": [
    "It is hard to see the relative development between the sexes and for total. Hence, we index the values and display here."
   ]
  },
  {
   "cell_type": "code",
   "execution_count": null,
   "metadata": {},
   "outputs": [],
   "source": [
    "index_values = idrakt_all[idrakt_all['year'] == 2014].set_index('sex')['value'] # Create a series with the 2014 values\n",
    "indexed_idrakt_all = idrakt_all.set_index(['year', 'sex']) # Set the index\n",
    "indexed_idrakt_all['indexed_value'] = 100*indexed_idrakt_all['value'] / indexed_idrakt_all['value'].unstack().loc[2014] # Calculate the indexed values\n",
    "\n",
    "# Resetting index for plotting\n",
    "indexed_idrakt_all = indexed_idrakt_all.reset_index() \n",
    "\n",
    "# Step 2: Plot the indexed values\n",
    "plt.figure(figsize=(10, 6))\n",
    "for sex, group in indexed_idrakt_all.groupby('sex'): # Loop over the groups\n",
    "    plt.plot(group['year'], group['indexed_value'], marker='o', label=sex) \n",
    "\n",
    "plt.title('Relative Development Indexed to 2014 Values')\n",
    "plt.xlabel('Year')\n",
    "plt.ylabel('Index (2014 = 100)')\n",
    "plt.legend()\n",
    "plt.grid(True)\n",
    "plt.show()"
   ]
  },
  {
   "cell_type": "markdown",
   "metadata": {},
   "source": [
    "2018 women suddenly increases a lot towards 2019. The lockdown in 2020 is visuably for both sexes. However, afterwards, women footballers continues to increase with a much higher rate than men."
   ]
  },
  {
   "cell_type": "markdown",
   "metadata": {},
   "source": [
    "Annual growth contributions"
   ]
  },
  {
   "cell_type": "code",
   "execution_count": null,
   "metadata": {},
   "outputs": [],
   "source": [
    "# Step 1: Calculate year-over-year change for each category\n",
    "idrakt_all['year_over_year_change'] = idrakt_all.groupby('sex')['value'].diff()\n",
    "\n",
    "# Step 2: Calculate the contribution for each category\n",
    "# First, create a pivot for the total values to align with the changes data\n",
    "total_values_previous_year = idrakt_all[idrakt_all['sex'] == 'Sex, total'][['year', 'value']].rename(columns={'value': 'total_previous_year'})\n",
    "total_values_previous_year['year'] += 1  # Aligning total of year n-1 with year n\n",
    "\n",
    "# Merge this back into the main DataFrame\n",
    "idrakt_all = pd.merge(idrakt_all, total_values_previous_year, on='year', how='left')\n",
    "\n",
    "# Now calculate the contributions\n",
    "idrakt_all['contribution'] = idrakt_all.apply(lambda x: x['year_over_year_change'] / x['total_previous_year'] if x['sex'] != 'Sex, total' else None, axis=1)\n",
    "\n",
    "# Step 3: Pivot the data for plotting\n",
    "pivot_contribution = idrakt_all.pivot(index='year', columns='sex', values='contribution')\n",
    "\n",
    "# Visualize the contributions\n",
    "pivot_contribution[['Men', 'Women']].plot(kind='bar', stacked=True, figsize=(10, 6))\n",
    "plt.title('Growth Contributions from Men and Women')\n",
    "plt.xlabel('Year')\n",
    "plt.ylabel('Growth p.a. (%)')\n",
    "plt.legend(['Men', 'Women'])\n",
    "plt.show()"
   ]
  },
  {
   "cell_type": "markdown",
   "metadata": {},
   "source": [
    "The figure above shows that even though women increases a lot, the contributions to the overall growth is fairly dominated by men because of the larger base. "
   ]
  },
  {
   "cell_type": "markdown",
   "metadata": {},
   "source": [
    "# Analysis across geography"
   ]
  },
  {
   "cell_type": "markdown",
   "metadata": {},
   "source": [
    "Plotting the number of football players by county"
   ]
  },
  {
   "cell_type": "code",
   "execution_count": null,
   "metadata": {},
   "outputs": [],
   "source": [
    "# Filter the DataFrame for 'Sex, total'\n",
    "idrakt_sex_total = idrakt[idrakt['sex'] == 'Sex, total']\n",
    "\n",
    "# Create a series with the 2014 values\n",
    "index_values = idrakt_sex_total[idrakt_sex_total['year'] == 2014].set_index('county')['value']\n",
    "\n",
    "# Set the index\n",
    "indexed_idrakt = idrakt_sex_total.set_index(['year', 'county'])\n",
    "\n",
    "# Calculate the indexed values\n",
    "indexed_idrakt['indexed_value'] = 100*indexed_idrakt['value'] / indexed_idrakt['value'].unstack().loc[2014]\n",
    "\n",
    "# Resetting index for plotting\n",
    "indexed_idrakt = indexed_idrakt.reset_index()\n",
    "\n",
    "# Plot the indexed values\n",
    "plt.figure(figsize=(10, 6))\n",
    "for county, group in indexed_idrakt.groupby('county'): # Loop over the groups\n",
    "    plt.plot(group['year'], group['indexed_value'], marker='o', label=county)\n",
    "\n",
    "plt.title('Relative Development Indexed to 2014 Values')\n",
    "plt.xlabel('Year')\n",
    "plt.ylabel('Index (2014 = 100)')\n",
    "plt.legend()\n",
    "plt.grid(True)\n",
    "plt.show()"
   ]
  },
  {
   "cell_type": "markdown",
   "metadata": {},
   "source": [
    "Because it is difficult to see what is going on, we make a plot, splitting into the broader county definition, county_b"
   ]
  },
  {
   "cell_type": "code",
   "execution_count": null,
   "metadata": {},
   "outputs": [],
   "source": [
    "# Filter the DataFrame for 'Sex, total'\n",
    "idrakt_sex_total_2 = idrakt[idrakt['sex'] == 'Sex, total']\n",
    "\n",
    "# Pivot the DataFrame\n",
    "pivot_table = idrakt_sex_total_2.pivot_table(index='year', columns='county_b', values='value', aggfunc='sum')\n",
    "\n",
    "# Calculate indexed values relative to 2014\n",
    "indexed_values = pivot_table.div(pivot_table.loc[2014]) * 100\n",
    "\n",
    "# Plot the indexed values\n",
    "plt.figure(figsize=(10, 6))\n",
    "for county_b in indexed_values.columns:\n",
    "    plt.plot(indexed_values.index, indexed_values[county_b], marker='o', label=county_b)\n",
    "\n",
    "plt.title('Relative Development Indexed to 2014 Values')\n",
    "plt.xlabel('Year')\n",
    "plt.ylabel('Index (2014 = 100)')\n",
    "plt.legend()\n",
    "plt.grid(True)\n",
    "plt.show()\n"
   ]
  },
  {
   "cell_type": "markdown",
   "metadata": {},
   "source": [
    "Making a plot of the sexes across counties"
   ]
  },
  {
   "cell_type": "code",
   "execution_count": null,
   "metadata": {},
   "outputs": [],
   "source": [
    "from dataproject import calculate_geographic_shares\n",
    "\n",
    "# Assuming df is your DataFrame with football player data\n",
    "geographic_shares = calculate_geographic_shares(idrakt)\n",
    "\n",
    "import matplotlib.pyplot as plt\n",
    "\n",
    "# Creating a bar plot\n",
    "geographic_shares.plot(kind='bar', x='county', y='share')\n",
    "plt.title('Share of Football Players by Geography')\n",
    "plt.xlabel('Geography')\n",
    "plt.ylabel('Share')\n",
    "plt.show()\n"
   ]
  },
  {
   "cell_type": "markdown",
   "metadata": {},
   "source": [
    "# Conclusion"
   ]
  },
  {
   "cell_type": "markdown",
   "metadata": {},
   "source": [
    "ADD CONCISE CONLUSION."
   ]
  },
  {
   "cell_type": "markdown",
   "metadata": {},
   "source": [
    "We see that..."
   ]
  }
 ],
 "metadata": {
  "kernelspec": {
   "display_name": "base",
   "language": "python",
   "name": "python3"
  },
  "language_info": {
   "codemirror_mode": {
    "name": "ipython",
    "version": 3
   },
   "file_extension": ".py",
   "mimetype": "text/x-python",
   "name": "python",
   "nbconvert_exporter": "python",
   "pygments_lexer": "ipython3",
   "version": "3.11.8"
  },
  "toc-autonumbering": true,
  "vscode": {
   "interpreter": {
    "hash": "47ef90cdf3004d3f859f1fb202523c65c07ba7c22eefd261b181f4744e2d0403"
   }
  }
 },
 "nbformat": 4,
 "nbformat_minor": 4
}
